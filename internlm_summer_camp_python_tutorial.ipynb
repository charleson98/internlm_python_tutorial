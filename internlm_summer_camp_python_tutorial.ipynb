{
 "cells": [
  {
   "cell_type": "markdown",
   "id": "2a9b37ad-dbbc-432b-afc0-099423fd5e71",
   "metadata": {},
   "source": [
    "# InternLM Python入门教程code\n",
    "Author：Charleson \n",
    "\n",
    "本notebook是为书生浦语大模型实战营编写的Python与Numpy入门教程的code部分。notebook可以交互式地编写和运行代码，方便运行教程中的示例与完成作业。"
   ]
  },
  {
   "cell_type": "markdown",
   "id": "3d2deec2-e070-4681-b547-2402d6258131",
   "metadata": {
    "tags": []
   },
   "source": [
    "## Chapter2: Python基础"
   ]
  },
  {
   "cell_type": "markdown",
   "id": "8afb70a8-cc2b-42c9-8a21-631a009b2bd3",
   "metadata": {},
   "source": [
    "### 2.1 Python基础语法"
   ]
  },
  {
   "cell_type": "code",
   "execution_count": null,
   "id": "ac73e2f6-892f-41de-b2f4-a4ce50436b42",
   "metadata": {},
   "outputs": [],
   "source": []
  },
  {
   "cell_type": "markdown",
   "id": "2123193d-a5c7-47f9-a116-69ca3510222c",
   "metadata": {},
   "source": [
    "### 2.2 基本数据类型"
   ]
  },
  {
   "cell_type": "code",
   "execution_count": null,
   "id": "c848f417-6503-483e-b474-a72745c2332e",
   "metadata": {},
   "outputs": [],
   "source": []
  },
  {
   "cell_type": "markdown",
   "id": "87a9b5eb-0fcc-4454-a9c9-5676434617c1",
   "metadata": {},
   "source": [
    "### 2.3 运算符"
   ]
  },
  {
   "cell_type": "code",
   "execution_count": null,
   "id": "b6e4379b-359d-4610-b7b6-15d7501302cb",
   "metadata": {},
   "outputs": [],
   "source": []
  },
  {
   "cell_type": "markdown",
   "id": "31e779d0-7591-4a04-b419-28d7fe88b522",
   "metadata": {},
   "source": [
    "### 2.4 列表"
   ]
  },
  {
   "cell_type": "code",
   "execution_count": null,
   "id": "f846c097-623d-42f4-806a-4c6e8e9b4c86",
   "metadata": {},
   "outputs": [],
   "source": []
  },
  {
   "cell_type": "markdown",
   "id": "6a1444d5-841a-49ea-9312-5cb57b4b6cf3",
   "metadata": {},
   "source": [
    "### 2.5 字符串"
   ]
  },
  {
   "cell_type": "code",
   "execution_count": null,
   "id": "4e2b12d8-bdf9-4dd5-bb95-68594ea6291c",
   "metadata": {},
   "outputs": [],
   "source": []
  },
  {
   "cell_type": "markdown",
   "id": "c6690720-e26d-48d8-b3c3-2244ef0d564b",
   "metadata": {},
   "source": [
    "### 2.6 元组"
   ]
  },
  {
   "cell_type": "code",
   "execution_count": null,
   "id": "29e44542-c027-4789-8239-61a8ce4235d0",
   "metadata": {},
   "outputs": [],
   "source": []
  },
  {
   "cell_type": "markdown",
   "id": "cecc00df-0441-49a0-a7a5-c5ddf4f7bf24",
   "metadata": {},
   "source": [
    "### 2.7 字典"
   ]
  },
  {
   "cell_type": "code",
   "execution_count": null,
   "id": "c5813788-8998-4ec4-8917-2f95b9ce0f45",
   "metadata": {},
   "outputs": [],
   "source": []
  },
  {
   "cell_type": "markdown",
   "id": "2fc25493-0fdc-4fae-91d4-f510874495ab",
   "metadata": {},
   "source": [
    "### 2.8 集合"
   ]
  },
  {
   "cell_type": "code",
   "execution_count": null,
   "id": "6f115302-14f2-4787-ad1d-8cab4379bbfb",
   "metadata": {},
   "outputs": [],
   "source": []
  },
  {
   "cell_type": "markdown",
   "id": "dbd69f64-2fdf-4f50-a750-75834059dad0",
   "metadata": {},
   "source": [
    "### 2.9 控制结构"
   ]
  },
  {
   "cell_type": "code",
   "execution_count": null,
   "id": "67ec9a63-6eae-4c37-94dc-2ef077b364ee",
   "metadata": {},
   "outputs": [],
   "source": []
  },
  {
   "cell_type": "markdown",
   "id": "ce19dff1-4f86-46e4-a2a6-3ecb1417405a",
   "metadata": {},
   "source": [
    "### 2.10 循环"
   ]
  },
  {
   "cell_type": "code",
   "execution_count": null,
   "id": "65371617-1a66-45e8-9f6a-bf7299b92b60",
   "metadata": {},
   "outputs": [],
   "source": []
  },
  {
   "cell_type": "markdown",
   "id": "70cb224a-b032-4661-8aa3-23fea334077d",
   "metadata": {},
   "source": [
    "### 2.11 函数"
   ]
  },
  {
   "cell_type": "code",
   "execution_count": null,
   "id": "d7180c54-04e3-4a9f-9da4-088c48c568b4",
   "metadata": {},
   "outputs": [],
   "source": []
  },
  {
   "cell_type": "markdown",
   "id": "34d0f6bd-12bd-4c03-880d-8c6b59c1e529",
   "metadata": {},
   "source": [
    "## Chapter3: Numpy基础"
   ]
  }
 ],
 "metadata": {
  "kernelspec": {
   "display_name": "Python 3 (ipykernel)",
   "language": "python",
   "name": "python3"
  },
  "language_info": {
   "codemirror_mode": {
    "name": "ipython",
    "version": 3
   },
   "file_extension": ".py",
   "mimetype": "text/x-python",
   "name": "python",
   "nbconvert_exporter": "python",
   "pygments_lexer": "ipython3",
   "version": "3.7.10"
  }
 },
 "nbformat": 4,
 "nbformat_minor": 5
}
