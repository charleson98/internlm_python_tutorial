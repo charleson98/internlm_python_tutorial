{
 "cells": [
  {
   "cell_type": "markdown",
   "id": "2a9b37ad-dbbc-432b-afc0-099423fd5e71",
   "metadata": {},
   "source": [
    "# InternLM Python入门教程code\n",
    "Author：Charleson \n",
    "\n",
    "本notebook是为书生浦语大模型实战营编写的Python与Numpy入门教程的code部分。notebook可以交互式地编写和运行代码，方便运行教程中的示例与完成作业。"
   ]
  },
  {
   "cell_type": "markdown",
   "id": "3d2deec2-e070-4681-b547-2402d6258131",
   "metadata": {
    "tags": []
   },
   "source": [
    "## Chapter2: Python基础"
   ]
  },
  {
   "cell_type": "markdown",
   "id": "8afb70a8-cc2b-42c9-8a21-631a009b2bd3",
   "metadata": {},
   "source": [
    "### 2.1 Python基础语法"
   ]
  },
  {
   "cell_type": "code",
   "execution_count": 5,
   "id": "ac73e2f6-892f-41de-b2f4-a4ce50436b42",
   "metadata": {},
   "outputs": [
    {
     "name": "stdout",
     "output_type": "stream",
     "text": [
      "hello world\n",
      "2\n",
      "3\n"
     ]
    }
   ],
   "source": [
    "#这是一个单行注释\n",
    "'''\n",
    "这是一个多行注释\n",
    "这是一个多行注释\n",
    "'''\n",
    "print(\"hello world\")#从hello world开始认识Python\n",
    "print(1+1)\n",
    "print(1+2)\n",
    "#print函数是Python中用于输出信息到控制台的内置函数。"
   ]
  },
  {
   "cell_type": "markdown",
   "id": "2e04d0e4-10da-4767-b43f-bcb0ee366ea2",
   "metadata": {},
   "source": [
    "在python中，代码块不使用{}来表示，而是通过行与缩进来表示，同一个代码块有着相同的缩进。"
   ]
  },
  {
   "cell_type": "code",
   "execution_count": null,
   "id": "c76992b6-0ecd-4fa0-8bb1-07115df7be41",
   "metadata": {},
   "outputs": [],
   "source": [
    "if True:\n",
    "    print('hello world!')\n",
    "    print('hello python!')\n",
    "else:\n",
    "    print('goodbye python!')\n",
    "    print('goodbye world!')"
   ]
  },
  {
   "cell_type": "markdown",
   "id": "19b7d16b-d94c-4563-b1b1-d8304ad57903",
   "metadata": {},
   "source": [
    "python标识符(变量名，函数名)命名要求：\n",
    "* 标识符须要由字母，数字和下划线组成\n",
    "* 首字符必须是字母或者下划线_\n",
    "* 标识符对大小写敏感\n",
    "* 标识符不能与python关键字重名\n",
    "\n",
    "以下代码可以查看python的关键词（保留字符）"
   ]
  },
  {
   "cell_type": "code",
   "execution_count": 4,
   "id": "3fd9b386-2a04-4f77-8f30-bdbb28c8a084",
   "metadata": {},
   "outputs": [
    {
     "name": "stdout",
     "output_type": "stream",
     "text": [
      "['False', 'None', 'True', '__peg_parser__', 'and', 'as', 'assert', 'async', 'await', 'break', 'class', 'continue', 'def', 'del', 'elif', 'else', 'except', 'finally', 'for', 'from', 'global', 'if', 'import', 'in', 'is', 'lambda', 'nonlocal', 'not', 'or', 'pass', 'raise', 'return', 'try', 'while', 'with', 'yield']\n"
     ]
    }
   ],
   "source": [
    "import keyword\n",
    "print(keyword.kwlist)"
   ]
  },
  {
   "cell_type": "markdown",
   "id": "2123193d-a5c7-47f9-a116-69ca3510222c",
   "metadata": {},
   "source": [
    "### 2.2 基本数据类型\n",
    "\n",
    "python基本数据类型:\n",
    "* 数字Number\n",
    "    * int整数\n",
    "    * float浮点数\n",
    "    * complex复数\n",
    "* 布尔型bool\n",
    "* 列表list\n",
    "* 元组tuple\n",
    "* 集合set\n",
    "* 字典Dictionary\n",
    "\n",
    "可以修改的是：列表list，集合set，字典Dictionary\n",
    "\n",
    "不可以修改的是：数字Number，布尔型bool，元组tuple"
   ]
  },
  {
   "cell_type": "code",
   "execution_count": 1,
   "id": "c848f417-6503-483e-b474-a72745c2332e",
   "metadata": {},
   "outputs": [
    {
     "name": "stdout",
     "output_type": "stream",
     "text": [
      "3\n",
      "1 2\n",
      " t_int的类型是： <class 'int'>  t_int的值是:  1\n",
      " t_float的类型是： <class 'float'>  t_float的值是:  1.0\n",
      " t_complex的类型是： <class 'complex'>  t_complex的值是:  1.2j\n",
      " t_bool的类型是： <class 'bool'>  t_bool的值是:  True\n",
      " t_list的类型是： <class 'list'>  t_list的值是:  [1, 1, 3, 3, 5, 5]\n",
      " t_tuple的类型是： <class 'tuple'>  t_tuple的值是:  (1, 1, 3, 3, 5, 5)\n",
      " t_set的类型是： <class 'tuple'>  t_set的值是:  (1, 3, 5)\n",
      " t_dict的类型是： <class 'dict'>  t_int的值是:  {'day': 18, 'month': 6, 'year': 2024}\n"
     ]
    }
   ],
   "source": [
    "#python中变量赋值的方式\n",
    "a = 1\n",
    "b = 2\n",
    "print(a+b)\n",
    "a,b = 1,2 #另一种单行赋值的方式\n",
    "print(1,2)\n",
    "\n",
    "#下面让我们来看看各种类型的数据长什么样\n",
    "t_int = 1 #整数\n",
    "t_float = 1.0 #浮点数\n",
    "t_complex = 1.2j #复数\n",
    "t_bool = True #布尔类型\n",
    "t_list = [1,1,3,3,5,5] #列表\n",
    "t_tuple = (1,1,3,3,5,5) #元组\n",
    "t_set = (1,3,5) #集合\n",
    "t_dict = {'day':18,'month':6,'year':2024} #字典\n",
    "\n",
    "print(\" t_int的类型是：\",type(t_int),' t_int的值是: ',t_int)\n",
    "print(\" t_float的类型是：\",type(t_float),' t_float的值是: ',t_float)\n",
    "print(\" t_complex的类型是：\",type(t_complex),' t_complex的值是: ',t_complex)\n",
    "print(\" t_bool的类型是：\",type(t_bool),' t_bool的值是: ',t_bool)\n",
    "print(\" t_list的类型是：\",type(t_list),' t_list的值是: ',t_list)\n",
    "print(\" t_tuple的类型是：\",type(t_tuple),' t_tuple的值是: ',t_tuple)\n",
    "print(\" t_set的类型是：\",type(t_set),' t_set的值是: ',t_set)\n",
    "print(\" t_dict的类型是：\",type(t_dict),' t_int的值是: ',t_dict)"
   ]
  },
  {
   "cell_type": "markdown",
   "id": "87a9b5eb-0fcc-4454-a9c9-5676434617c1",
   "metadata": {},
   "source": [
    "### 2.3 运算符\n",
    "#### 2.3.1 算数运算符\n",
    "| 运算符 | 描述 |\n",
    "| --- | --- |\n",
    "| `+` | 加 |\n",
    "| `-` | 减 |\n",
    "| `*` | 乘 |\n",
    "| `/` | 除 |\n",
    "| `//` | 整除,只保留整数 |\n",
    "| `%` | 模运算或者取余数除法,只保留余数 |\n",
    "| `**` | 幂运算 |"
   ]
  },
  {
   "cell_type": "code",
   "execution_count": 7,
   "id": "83fae77b-8ecb-4208-916b-33969392ad05",
   "metadata": {},
   "outputs": [
    {
     "name": "stdout",
     "output_type": "stream",
     "text": [
      "1+1 = 2\n",
      "2-1 = 1\n",
      "2*4 = 8\n",
      "2*4 = 8\n",
      "8//3 = 2\n",
      "8%5 = 3\n",
      "2**3 = 8\n"
     ]
    }
   ],
   "source": [
    "print(\"1+1 =\",1+1)\n",
    "print(\"2-1 =\",2-1)\n",
    "print(\"2*4 =\",2*4)\n",
    "print(\"2*4 =\",2*4)\n",
    "print(\"8//3 =\",8//3)\n",
    "print(\"8%5 =\",8%5)\n",
    "print(\"2**3 =\",2**3)"
   ]
  },
  {
   "cell_type": "markdown",
   "id": "7647a8cd-1719-4200-bf9e-c60a0561f284",
   "metadata": {},
   "source": [
    "#### 2.3.2 比较运算符\n",
    "| 运算符 | 描述 |\n",
    "| --- | --- |\n",
    "| `>` | 大于 |\n",
    "| `<` | 小于 |\n",
    "| `>=` | 大于等于 |\n",
    "| `<=` | 小于等于 |\n",
    "| `==` | 等于 |\n",
    "| `!=` | 不等于 |"
   ]
  },
  {
   "cell_type": "code",
   "execution_count": 8,
   "id": "96a38952-e4f4-43be-a9ce-bbf2751c423e",
   "metadata": {},
   "outputs": [
    {
     "name": "stdout",
     "output_type": "stream",
     "text": [
      "a>b = False\n",
      "a<b = True\n",
      "a>=b = False\n",
      "a<=b = True\n",
      "a==b = False\n",
      "a!=b = True\n"
     ]
    }
   ],
   "source": [
    "a,b = 10,20\n",
    "print(\"a>b =\",a>b)\n",
    "print(\"a<b =\",a<b)\n",
    "print(\"a>=b =\",a>=b)\n",
    "print(\"a<=b =\",a<=b)\n",
    "print(\"a==b =\",a==b)\n",
    "print(\"a!=b =\",a!=b)"
   ]
  },
  {
   "cell_type": "markdown",
   "id": "d5fae9c4-3854-4966-a58b-38239beaffb4",
   "metadata": {},
   "source": [
    "#### 2.3.3 赋值运算符\n",
    "| 运算符 | 描述 | 等价表达 |\n",
    "| --- | --- | --- |\n",
    "| `=` | 基础赋值 | |\n",
    "| `+=` | 加法赋值 | a+=b等价于 a=a+b |\n",
    "| `-=` | 减法赋值 | a-=b等价于 a=a-b |\n",
    "| `*=` | 小于等于 | a*=b等价于 a=a*b |\n",
    "| `/=` | 等于 | a/=b等价于 a=a/b |\n",
    "| `//=` | 等于 | a//=b等价于 a=a//b |\n",
    "| `%=` | 等于 | a%=b等价于 a=a%b |\n",
    "| `**=` | 等于 | a**=b等价于 a=a**b |"
   ]
  },
  {
   "cell_type": "code",
   "execution_count": 12,
   "id": "99c5f517-e20a-4f99-acfa-2764a051ae1a",
   "metadata": {},
   "outputs": [
    {
     "name": "stdout",
     "output_type": "stream",
     "text": [
      "a+=1,a= 3\n",
      "b=b+1,b= 3\n",
      "--------------------\n",
      "a-=1,a= 1\n",
      "b=b-1,b= 1\n",
      "--------------------\n",
      "a*=2,a= 4\n",
      "b=b*2,b= 4\n",
      "--------------------\n",
      "a/=2,a= 1.0\n",
      "b=b/2,b= 1.0\n",
      "--------------------\n",
      "a//=2,a= 1\n",
      "b=b//2,b= 1\n",
      "--------------------\n",
      "a%=3,a= 2\n",
      "b=b%3,b= 2\n",
      "--------------------\n",
      "a%=3,a= 2\n",
      "b=b%3,b= 2\n",
      "--------------------\n",
      "a**=3,a= 8\n",
      "b=b**3,b= 8\n"
     ]
    }
   ],
   "source": [
    "a,b = 2,2\n",
    "a += 1\n",
    "b = b+1\n",
    "print(\"a+=1,a=\",a)\n",
    "print(\"b=b+1,b=\",b)\n",
    "\n",
    "print(\"-\"*20)\n",
    "a,b = 2,2\n",
    "a -= 1\n",
    "b = b-1\n",
    "print(\"a-=1,a=\",a)\n",
    "print(\"b=b-1,b=\",b)\n",
    "\n",
    "print(\"-\"*20)\n",
    "a,b = 2,2\n",
    "a *= 2\n",
    "b = b*2\n",
    "print(\"a*=2,a=\",a)\n",
    "print(\"b=b*2,b=\",b)\n",
    "\n",
    "print(\"-\"*20)\n",
    "a,b = 2,2\n",
    "a /= 2\n",
    "b = b/2\n",
    "print(\"a/=2,a=\",a)\n",
    "print(\"b=b/2,b=\",b)\n",
    "\n",
    "print(\"-\"*20)\n",
    "a,b = 2,2\n",
    "a //= 2\n",
    "b = b//2\n",
    "print(\"a//=2,a=\",a)\n",
    "print(\"b=b//2,b=\",b)\n",
    "\n",
    "print(\"-\"*20)\n",
    "a,b = 2,2\n",
    "a %= 3\n",
    "b = b%3\n",
    "print(\"a%=3,a=\",a)\n",
    "print(\"b=b%3,b=\",b)\n",
    "\n",
    "print(\"-\"*20)\n",
    "a,b = 2,2\n",
    "a %= 3\n",
    "b = b%3\n",
    "print(\"a%=3,a=\",a)\n",
    "print(\"b=b%3,b=\",b)\n",
    "\n",
    "print(\"-\"*20)\n",
    "a,b = 2,2\n",
    "a **= 3\n",
    "b = b**3\n",
    "print(\"a**=3,a=\",a)\n",
    "print(\"b=b**3,b=\",b)"
   ]
  },
  {
   "cell_type": "markdown",
   "id": "62dd57a9-286e-417c-97c5-69af934a8ea7",
   "metadata": {},
   "source": [
    "#### 2.3.4 逻辑运算符\n",
    "| 运算符 | 描述 |\n",
    "| --- | --- |\n",
    "| `and` | 逻辑与 |\n",
    "| `or` | 逻辑或 |\n",
    "| `not` | 逻辑非 |"
   ]
  },
  {
   "cell_type": "code",
   "execution_count": 13,
   "id": "a135a654-00d1-4660-bf6c-c2e3d06f288b",
   "metadata": {},
   "outputs": [
    {
     "name": "stdout",
     "output_type": "stream",
     "text": [
      "a and b = False\n",
      "a or b = False\n",
      "not b = False\n"
     ]
    }
   ],
   "source": [
    "a,b = True,False\n",
    "print(\"a and b =\",a and b)\n",
    "print(\"a or b =\",a and b)\n",
    "print(\"not b =\",not a)"
   ]
  },
  {
   "cell_type": "markdown",
   "id": "31e779d0-7591-4a04-b419-28d7fe88b522",
   "metadata": {},
   "source": [
    "### 2.4 列表"
   ]
  },
  {
   "cell_type": "code",
   "execution_count": 2,
   "id": "f846c097-623d-42f4-806a-4c6e8e9b4c86",
   "metadata": {},
   "outputs": [
    {
     "data": {
      "text/plain": [
       "20"
      ]
     },
     "execution_count": 2,
     "metadata": {},
     "output_type": "execute_result"
    }
   ],
   "source": [
    "10 and 20"
   ]
  },
  {
   "cell_type": "markdown",
   "id": "6a1444d5-841a-49ea-9312-5cb57b4b6cf3",
   "metadata": {},
   "source": [
    "### 2.5 字符串"
   ]
  },
  {
   "cell_type": "code",
   "execution_count": null,
   "id": "4e2b12d8-bdf9-4dd5-bb95-68594ea6291c",
   "metadata": {},
   "outputs": [],
   "source": []
  },
  {
   "cell_type": "markdown",
   "id": "c6690720-e26d-48d8-b3c3-2244ef0d564b",
   "metadata": {},
   "source": [
    "### 2.6 元组"
   ]
  },
  {
   "cell_type": "code",
   "execution_count": null,
   "id": "29e44542-c027-4789-8239-61a8ce4235d0",
   "metadata": {},
   "outputs": [],
   "source": []
  },
  {
   "cell_type": "markdown",
   "id": "cecc00df-0441-49a0-a7a5-c5ddf4f7bf24",
   "metadata": {},
   "source": [
    "### 2.7 字典"
   ]
  },
  {
   "cell_type": "code",
   "execution_count": null,
   "id": "c5813788-8998-4ec4-8917-2f95b9ce0f45",
   "metadata": {},
   "outputs": [],
   "source": []
  },
  {
   "cell_type": "markdown",
   "id": "2fc25493-0fdc-4fae-91d4-f510874495ab",
   "metadata": {},
   "source": [
    "### 2.8 集合"
   ]
  },
  {
   "cell_type": "code",
   "execution_count": null,
   "id": "6f115302-14f2-4787-ad1d-8cab4379bbfb",
   "metadata": {},
   "outputs": [],
   "source": []
  },
  {
   "cell_type": "markdown",
   "id": "dbd69f64-2fdf-4f50-a750-75834059dad0",
   "metadata": {},
   "source": [
    "### 2.9 控制结构"
   ]
  },
  {
   "cell_type": "code",
   "execution_count": null,
   "id": "67ec9a63-6eae-4c37-94dc-2ef077b364ee",
   "metadata": {},
   "outputs": [],
   "source": []
  },
  {
   "cell_type": "markdown",
   "id": "ce19dff1-4f86-46e4-a2a6-3ecb1417405a",
   "metadata": {},
   "source": [
    "### 2.10 循环"
   ]
  },
  {
   "cell_type": "code",
   "execution_count": null,
   "id": "65371617-1a66-45e8-9f6a-bf7299b92b60",
   "metadata": {},
   "outputs": [],
   "source": []
  },
  {
   "cell_type": "markdown",
   "id": "70cb224a-b032-4661-8aa3-23fea334077d",
   "metadata": {},
   "source": [
    "### 2.11 函数"
   ]
  },
  {
   "cell_type": "code",
   "execution_count": null,
   "id": "d7180c54-04e3-4a9f-9da4-088c48c568b4",
   "metadata": {},
   "outputs": [],
   "source": []
  },
  {
   "cell_type": "markdown",
   "id": "34d0f6bd-12bd-4c03-880d-8c6b59c1e529",
   "metadata": {},
   "source": [
    "## Chapter3: Numpy基础"
   ]
  }
 ],
 "metadata": {
  "kernelspec": {
   "display_name": "Python 3 (ipykernel)",
   "language": "python",
   "name": "python3"
  },
  "language_info": {
   "codemirror_mode": {
    "name": "ipython",
    "version": 3
   },
   "file_extension": ".py",
   "mimetype": "text/x-python",
   "name": "python",
   "nbconvert_exporter": "python",
   "pygments_lexer": "ipython3",
   "version": "3.7.10"
  }
 },
 "nbformat": 4,
 "nbformat_minor": 5
}
