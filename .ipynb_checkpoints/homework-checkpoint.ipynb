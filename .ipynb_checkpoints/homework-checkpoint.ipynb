{
 "cells": [
  {
   "cell_type": "markdown",
   "id": "cce6c1b8-ca6d-41e9-974c-5cf5fe9e1769",
   "metadata": {},
   "source": [
    "# Python关卡作业"
   ]
  },
  {
   "cell_type": "markdown",
   "id": "5e85df31-280f-4df1-8aeb-d2812f9ed2b2",
   "metadata": {},
   "source": [
    "# 第一题\n",
    "编写一个python程序，将InternLM的各项信息用你觉得合适的数据类型放入一个字典中,并遍历字典的所有key打印出来。\n",
    "\n",
    "* **模型名称**：书生浦语（InternLM2）\n",
    "* **发布机构**：上海人工智能实验室\n",
    "* **参数规格**：\n",
    "  - 18亿参数版本（InternLM2-1.8B，轻量级）\n",
    "  - 70亿参数版本（InternLM2-7B，轻量级）\n",
    "  - 200亿参数版本（InternLM2-20B，中量级）\n",
    "\n",
    "\n",
    "\n"
   ]
  },
  {
   "cell_type": "code",
   "execution_count": null,
   "id": "f5440f23-5862-417b-b00c-ef1db785e2d2",
   "metadata": {},
   "outputs": [],
   "source": []
  },
  {
   "cell_type": "markdown",
   "id": "2aaf1934-544a-41dd-ad3a-16f81ffe6db5",
   "metadata": {},
   "source": [
    "# 第二题\n",
    "请枚举出5,6,7,8能组成的所有三位数组合"
   ]
  },
  {
   "cell_type": "code",
   "execution_count": null,
   "id": "e43091ce-b1cd-4984-a397-8b1d74f344bf",
   "metadata": {},
   "outputs": [],
   "source": []
  },
  {
   "cell_type": "markdown",
   "id": "002ce612-16db-4055-8d1f-321ca577db4c",
   "metadata": {},
   "source": [
    "# 第三题\n",
    "完成一个判断模型规模的函数。\n",
    "\n",
    "输入为参数量字符串，如'20B',根据参数量大小返回模型以字符串是属于小型LLM、中型LLM还是大型LLM。\n",
    "\n",
    "input:'20B'\n",
    "output:'中型LLM'\n",
    "\n",
    "以下是文心一言给出的根据公开发布的信息和一些普遍接受的观点，给出一个大致的根据参数量划分模型大小的标准：\n",
    "* 小型LLM: 10B以内\n",
    "* 中型LLM: [10B,100B)\n",
    "* 大型LLM: 100B以上"
   ]
  },
  {
   "cell_type": "code",
   "execution_count": null,
   "id": "2efb268a-cac0-4b8f-8fb9-370c953ca83b",
   "metadata": {},
   "outputs": [],
   "source": [
    "def llm_classification(size):\n",
    "    pass\n",
    "\n",
    "llm_classification('20B')"
   ]
  },
  {
   "cell_type": "markdown",
   "id": "85066a37-6114-4832-9b99-1db2ed6dd8b2",
   "metadata": {},
   "source": [
    "# 第四题\n",
    "假设你现在编写出了一个很棒的提示词prompt模板,请通过字符串格式化输出的方法，将评论整合到提示词模板中去，同时最好还要支持任意更改分隔符。请使用函数实现\n",
    "```\n",
    "你的任务是从一个电子商务网站上生成一篇产品评论的简短总结。  \n",
    "  \n",
    "用最多30个词总结下面的评论，评论由\\`\\`\\`分隔。  \n",
    "  \n",
    "评论：```   ```\n",
    "```\n",
    "TIPS:使用分隔符将用户输入与系统prompt是一种很有效的预防prompt injection的方法"
   ]
  },
  {
   "cell_type": "code",
   "execution_count": null,
   "id": "e6a20cd3-8208-4a87-a70c-8a3f5039d945",
   "metadata": {},
   "outputs": [],
   "source": [
    "review = \"刚刚入手了这款XX手机，真的是性价比超高的选择！外观时尚大气，手感也非常舒适。运行速度飞快，无论是玩游戏还是日常应用都毫无压力。\\\n",
    "            拍照功能更是让我惊喜，清晰度和色彩还原度都非常棒。电池续航也很给力，一整天使用下来完全没问题。非常满意的一次购物体验！\"\n",
    "def prompt_gen(review):\n",
    "    pass"
   ]
  },
  {
   "cell_type": "markdown",
   "id": "eddd2dd6-15a6-44d0-b6f7-f635d657a011",
   "metadata": {},
   "source": [
    "# 第五题\n",
    "\n",
    "请实现一个wordcount函数，统计英文字符串中每个单词出现的次数。返回一个字典，key为单词，value为对应单词出现的次数。\n",
    "\n",
    "TIPS：记得先去掉标点符号"
   ]
  },
  {
   "cell_type": "code",
   "execution_count": null,
   "id": "84add6b0-9209-4de0-90f9-41062d724cbb",
   "metadata": {},
   "outputs": [],
   "source": [
    "text = \"\"\"\n",
    "Got this panda plush toy for my daughter's birthday, \n",
    "who loves it and takes it everywhere. It's soft and \n",
    "super cute, and its face has a friendly look. It's \n",
    "a bit small for what I paid though. I think there \n",
    "might be other options that are bigger for the \n",
    "same price. It arrived a day earlier than expected, \n",
    "so I got to play with it myself before I gave it \n",
    "to her.\n",
    "\"\"\"\n",
    "\n",
    "def wordcount(text):\n",
    "    pass"
   ]
  },
  {
   "cell_type": "markdown",
   "id": "9b5caf8e-269e-45ed-9067-ac831bc63fb7",
   "metadata": {},
   "source": [
    "# 第六题\n",
    "多元线性回归模型的解析解可以通过求解正规方程（Normal Equation）得到：\n",
    "\n",
    "$$ X^T X w = X^T y $$\n",
    "\n",
    "其中 $X \\in \\mathbb{R}^{n \\times (d+1)}$ 是设计矩阵，其每一行是一个增广的特征向量 $[x_i^T, 1]$，$y \\in \\mathbb{R}^n$ 是目标向量。\n",
    "\n",
    "解析解为：\n",
    "\n",
    "$$ w = (X^T X)^{-1} X^T y $$\n",
    "\n",
    "如果 $X^T X$ 是非奇异的（即满秩），则上述方程有唯一解。\n",
    "\n",
    "请完成以下使用矩阵计算求解析解来解线性回归函数的编写"
   ]
  },
  {
   "cell_type": "code",
   "execution_count": 9,
   "id": "277bc0f5-d4d1-40ce-a8bc-01580cb142ab",
   "metadata": {},
   "outputs": [],
   "source": [
    "import numpy as np\n",
    "X = np.linspace(-10,10,100)\n",
    "y = 2*x-1+np.random.randn(x.shape[0])*10\n",
    "#还需要给X加上bias的dummy变量\n",
    "X_b = np.vstack((X,np.ones_like(X)))\n",
    "\n",
    "def multivariate_linear_regression(X_b,y):\n",
    "    '''\n",
    "    当X_b满秩时求解，当X_b非满秩是返回None\n",
    "    '''\n",
    "    pass\n",
    "\n",
    "multivariate_linear_regression(X_b,y)"
   ]
  }
 ],
 "metadata": {
  "kernelspec": {
   "display_name": "Python 3 (ipykernel)",
   "language": "python",
   "name": "python3"
  },
  "language_info": {
   "codemirror_mode": {
    "name": "ipython",
    "version": 3
   },
   "file_extension": ".py",
   "mimetype": "text/x-python",
   "name": "python",
   "nbconvert_exporter": "python",
   "pygments_lexer": "ipython3",
   "version": "3.7.10"
  }
 },
 "nbformat": 4,
 "nbformat_minor": 5
}
