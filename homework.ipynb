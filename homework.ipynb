{
 "cells": [
  {
   "cell_type": "markdown",
   "id": "cce6c1b8-ca6d-41e9-974c-5cf5fe9e1769",
   "metadata": {},
   "source": [
    "# Python关卡作业"
   ]
  },
  {
   "cell_type": "markdown",
   "id": "2aaf1934-544a-41dd-ad3a-16f81ffe6db5",
   "metadata": {},
   "source": [
    "# 第一题\n",
    "请枚举出5,6,7,8能组成的所有三位数组合"
   ]
  },
  {
   "cell_type": "code",
   "execution_count": null,
   "id": "e43091ce-b1cd-4984-a397-8b1d74f344bf",
   "metadata": {},
   "outputs": [],
   "source": []
  },
  {
   "cell_type": "markdown",
   "id": "002ce612-16db-4055-8d1f-321ca577db4c",
   "metadata": {},
   "source": [
    "# 第二题\n",
    "完成一个判断模型规模的函数。\n",
    "\n",
    "输入为参数量字符串，如'20B',根据参数量大小返回模型以字符串是属于小型LLM、中型LLM还是大型LLM。\n",
    "\n",
    "input:'20B'\n",
    "output:'中型LLM'\n",
    "\n",
    "以下是文心一言给出的根据公开发布的信息和一些普遍接受的观点，给出一个大致的根据参数量划分模型大小的标准：\n",
    "* 小型LLM: 10B以内\n",
    "* 中型LLM: [10B,100B)\n",
    "* 大型LLM: 100B以上"
   ]
  },
  {
   "cell_type": "code",
   "execution_count": null,
   "id": "2efb268a-cac0-4b8f-8fb9-370c953ca83b",
   "metadata": {},
   "outputs": [],
   "source": [
    "def llm_classification(size):\n",
    "    pass\n",
    "\n",
    "llm_classification('20B')"
   ]
  },
  {
   "cell_type": "markdown",
   "id": "eddd2dd6-15a6-44d0-b6f7-f635d657a011",
   "metadata": {},
   "source": [
    "# 第三题\n",
    "\n",
    "请实现一个wordcount函数，统计英文字符串中每个单词出现的次数。返回一个字典，key为单词，value为对应单词出现的次数。\n",
    "\n",
    "TIPS：记得先去掉标点符号,然后把每个单词转换成小写。"
   ]
  },
  {
   "cell_type": "code",
   "execution_count": null,
   "id": "84add6b0-9209-4de0-90f9-41062d724cbb",
   "metadata": {},
   "outputs": [],
   "source": [
    "text = \"\"\"\n",
    "Got this panda plush toy for my daughter's birthday, \n",
    "who loves it and takes it everywhere. It's soft and \n",
    "super cute, and its face has a friendly look. It's \n",
    "a bit small for what I paid though. I think there \n",
    "might be other options that are bigger for the \n",
    "same price. It arrived a day earlier than expected, \n",
    "so I got to play with it myself before I gave it \n",
    "to her.\n",
    "\"\"\"\n",
    "\n",
    "def wordcount(text):\n",
    "    pass"
   ]
  },
  {
   "cell_type": "markdown",
   "id": "d409f57f-e5d8-4a7c-8a61-a6bf7590c70d",
   "metadata": {},
   "source": [
    "请使用本地vscode连接远程开发机，将上面你写的wordcount函数在开发机上进行debug，一行一行地运行你写的代码，并截三张过程中的图附在提交的作业中。"
   ]
  }
 ],
 "metadata": {
  "kernelspec": {
   "display_name": "Python 3 (ipykernel)",
   "language": "python",
   "name": "python3"
  },
  "language_info": {
   "codemirror_mode": {
    "name": "ipython",
    "version": 3
   },
   "file_extension": ".py",
   "mimetype": "text/x-python",
   "name": "python",
   "nbconvert_exporter": "python",
   "pygments_lexer": "ipython3",
   "version": "3.7.10"
  }
 },
 "nbformat": 4,
 "nbformat_minor": 5
}
