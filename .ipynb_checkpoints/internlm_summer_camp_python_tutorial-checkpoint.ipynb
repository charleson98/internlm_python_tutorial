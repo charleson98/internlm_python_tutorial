{
 "cells": [
  {
   "cell_type": "markdown",
   "id": "2a9b37ad-dbbc-432b-afc0-099423fd5e71",
   "metadata": {},
   "source": [
    "# InternLM Python入门教程code\n",
    "Author：Charleson \n",
    "\n",
    "本notebook是为书生浦语大模型实战营编写的Python与Numpy入门教程的code部分。notebook可以交互式地编写和运行代码，方便运行教程中的示例与完成作业。"
   ]
  },
  {
   "cell_type": "markdown",
   "id": "3d2deec2-e070-4681-b547-2402d6258131",
   "metadata": {
    "tags": []
   },
   "source": [
    "## Chapter2: Python基础"
   ]
  },
  {
   "cell_type": "markdown",
   "id": "8afb70a8-cc2b-42c9-8a21-631a009b2bd3",
   "metadata": {},
   "source": [
    "### 2.1 Python基础语法"
   ]
  },
  {
   "cell_type": "code",
   "execution_count": 5,
   "id": "ac73e2f6-892f-41de-b2f4-a4ce50436b42",
   "metadata": {},
   "outputs": [
    {
     "name": "stdout",
     "output_type": "stream",
     "text": [
      "hello world\n",
      "2\n",
      "3\n"
     ]
    }
   ],
   "source": [
    "#这是一个单行注释\n",
    "'''\n",
    "这是一个多行注释\n",
    "这是一个多行注释\n",
    "'''\n",
    "print(\"hello world\")#从hello world开始认识Python\n",
    "print(1+1)\n",
    "print(1+2)\n",
    "#print函数是Python中用于输出信息到控制台的内置函数。"
   ]
  },
  {
   "cell_type": "markdown",
   "id": "2e04d0e4-10da-4767-b43f-bcb0ee366ea2",
   "metadata": {},
   "source": [
    "在python中，代码块不使用{}来表示，而是通过行与缩进来表示，同一个代码块有着相同的缩进。"
   ]
  },
  {
   "cell_type": "code",
   "execution_count": null,
   "id": "c76992b6-0ecd-4fa0-8bb1-07115df7be41",
   "metadata": {},
   "outputs": [],
   "source": [
    "if True:\n",
    "    print('hello world!')\n",
    "    print('hello python!')\n",
    "else:\n",
    "    print('goodbye python!')\n",
    "    print('goodbye world!')"
   ]
  },
  {
   "cell_type": "markdown",
   "id": "19b7d16b-d94c-4563-b1b1-d8304ad57903",
   "metadata": {},
   "source": [
    "python标识符(变量名，函数名)命名要求：\n",
    "* 标识符须要由字母，数字和下划线组成\n",
    "* 首字符必须是字母或者下划线_\n",
    "* 标识符对大小写敏感\n",
    "* 标识符不能与python关键字重名\n",
    "\n",
    "以下代码可以查看python的关键词（保留字符）"
   ]
  },
  {
   "cell_type": "code",
   "execution_count": 4,
   "id": "3fd9b386-2a04-4f77-8f30-bdbb28c8a084",
   "metadata": {},
   "outputs": [
    {
     "name": "stdout",
     "output_type": "stream",
     "text": [
      "['False', 'None', 'True', '__peg_parser__', 'and', 'as', 'assert', 'async', 'await', 'break', 'class', 'continue', 'def', 'del', 'elif', 'else', 'except', 'finally', 'for', 'from', 'global', 'if', 'import', 'in', 'is', 'lambda', 'nonlocal', 'not', 'or', 'pass', 'raise', 'return', 'try', 'while', 'with', 'yield']\n"
     ]
    }
   ],
   "source": [
    "import keyword\n",
    "print(keyword.kwlist)"
   ]
  },
  {
   "cell_type": "markdown",
   "id": "2123193d-a5c7-47f9-a116-69ca3510222c",
   "metadata": {},
   "source": [
    "### 2.2 基本数据类型\n",
    "\n",
    "python基本数据类型:\n",
    "* 数字Number\n",
    "    * int整数\n",
    "    * float浮点数\n",
    "    * complex复数\n",
    "* 布尔型bool\n",
    "* 列表list\n",
    "* 元组tuple\n",
    "* 集合set\n",
    "* 字典Dictionary\n",
    "\n",
    "可以修改的是：列表list，集合set，字典Dictionary\n",
    "\n",
    "不可以修改的是：数字Number，布尔型bool，元组tuple"
   ]
  },
  {
   "cell_type": "code",
   "execution_count": 1,
   "id": "c848f417-6503-483e-b474-a72745c2332e",
   "metadata": {},
   "outputs": [
    {
     "name": "stdout",
     "output_type": "stream",
     "text": [
      "3\n",
      "1 2\n",
      " t_int的类型是： <class 'int'>  t_int的值是:  1\n",
      " t_float的类型是： <class 'float'>  t_float的值是:  1.0\n",
      " t_complex的类型是： <class 'complex'>  t_complex的值是:  1.2j\n",
      " t_bool的类型是： <class 'bool'>  t_bool的值是:  True\n",
      " t_list的类型是： <class 'list'>  t_list的值是:  [1, 1, 3, 3, 5, 5]\n",
      " t_tuple的类型是： <class 'tuple'>  t_tuple的值是:  (1, 1, 3, 3, 5, 5)\n",
      " t_set的类型是： <class 'tuple'>  t_set的值是:  (1, 3, 5)\n",
      " t_dict的类型是： <class 'dict'>  t_int的值是:  {'day': 18, 'month': 6, 'year': 2024}\n"
     ]
    }
   ],
   "source": [
    "#python中变量赋值的方式\n",
    "a = 1\n",
    "b = 2\n",
    "print(a+b)\n",
    "a,b = 1,2 #另一种单行赋值的方式\n",
    "print(1,2)\n",
    "\n",
    "#下面让我们来看看各种类型的数据长什么样\n",
    "t_int = 1 #整数\n",
    "t_float = 1.0 #浮点数\n",
    "t_complex = 1.2j #复数\n",
    "t_bool = True #布尔类型\n",
    "t_list = [1,1,3,3,5,5] #列表\n",
    "t_tuple = (1,1,3,3,5,5) #元组\n",
    "t_set = (1,3,5) #集合\n",
    "t_dict = {'day':18,'month':6,'year':2024} #字典\n",
    "\n",
    "print(\" t_int的类型是：\",type(t_int),' t_int的值是: ',t_int)\n",
    "print(\" t_float的类型是：\",type(t_float),' t_float的值是: ',t_float)\n",
    "print(\" t_complex的类型是：\",type(t_complex),' t_complex的值是: ',t_complex)\n",
    "print(\" t_bool的类型是：\",type(t_bool),' t_bool的值是: ',t_bool)\n",
    "print(\" t_list的类型是：\",type(t_list),' t_list的值是: ',t_list)\n",
    "print(\" t_tuple的类型是：\",type(t_tuple),' t_tuple的值是: ',t_tuple)\n",
    "print(\" t_set的类型是：\",type(t_set),' t_set的值是: ',t_set)\n",
    "print(\" t_dict的类型是：\",type(t_dict),' t_int的值是: ',t_dict)"
   ]
  },
  {
   "cell_type": "markdown",
   "id": "702a6d6e-5575-40ed-a182-ac7298169a77",
   "metadata": {},
   "source": [
    "### 数据类型转换"
   ]
  },
  {
   "cell_type": "markdown",
   "id": "87a9b5eb-0fcc-4454-a9c9-5676434617c1",
   "metadata": {},
   "source": [
    "### 2.3 运算符\n",
    "#### 2.3.1 算数运算符\n",
    "| 运算符 | 描述 |\n",
    "| --- | --- |\n",
    "| `+` | 加 |\n",
    "| `-` | 减 |\n",
    "| `*` | 乘 |\n",
    "| `/` | 除 |\n",
    "| `//` | 整除,只保留整数 |\n",
    "| `%` | 模运算或者取余数除法,只保留余数 |\n",
    "| `**` | 幂运算 |"
   ]
  },
  {
   "cell_type": "code",
   "execution_count": 7,
   "id": "83fae77b-8ecb-4208-916b-33969392ad05",
   "metadata": {},
   "outputs": [
    {
     "name": "stdout",
     "output_type": "stream",
     "text": [
      "1+1 = 2\n",
      "2-1 = 1\n",
      "2*4 = 8\n",
      "2*4 = 8\n",
      "8//3 = 2\n",
      "8%5 = 3\n",
      "2**3 = 8\n"
     ]
    }
   ],
   "source": [
    "print(\"1+1 =\",1+1)\n",
    "print(\"2-1 =\",2-1)\n",
    "print(\"2*4 =\",2*4)\n",
    "print(\"2*4 =\",2*4)\n",
    "print(\"8//3 =\",8//3)\n",
    "print(\"8%5 =\",8%5)\n",
    "print(\"2**3 =\",2**3)"
   ]
  },
  {
   "cell_type": "markdown",
   "id": "7647a8cd-1719-4200-bf9e-c60a0561f284",
   "metadata": {},
   "source": [
    "#### 2.3.2 比较运算符\n",
    "| 运算符 | 描述 |\n",
    "| --- | --- |\n",
    "| `>` | 大于 |\n",
    "| `<` | 小于 |\n",
    "| `>=` | 大于等于 |\n",
    "| `<=` | 小于等于 |\n",
    "| `==` | 等于 |\n",
    "| `!=` | 不等于 |"
   ]
  },
  {
   "cell_type": "code",
   "execution_count": 8,
   "id": "96a38952-e4f4-43be-a9ce-bbf2751c423e",
   "metadata": {},
   "outputs": [
    {
     "name": "stdout",
     "output_type": "stream",
     "text": [
      "a>b = False\n",
      "a<b = True\n",
      "a>=b = False\n",
      "a<=b = True\n",
      "a==b = False\n",
      "a!=b = True\n"
     ]
    }
   ],
   "source": [
    "a,b = 10,20\n",
    "print(\"a>b =\",a>b)\n",
    "print(\"a<b =\",a<b)\n",
    "print(\"a>=b =\",a>=b)\n",
    "print(\"a<=b =\",a<=b)\n",
    "print(\"a==b =\",a==b)\n",
    "print(\"a!=b =\",a!=b)"
   ]
  },
  {
   "cell_type": "markdown",
   "id": "d5fae9c4-3854-4966-a58b-38239beaffb4",
   "metadata": {},
   "source": [
    "#### 2.3.3 赋值运算符\n",
    "| 运算符 | 描述 | 等价表达 |\n",
    "| --- | --- | --- |\n",
    "| `=` | 基础赋值 | |\n",
    "| `+=` | 加法赋值 | a+=b等价于 a=a+b |\n",
    "| `-=` | 减法赋值 | a-=b等价于 a=a-b |\n",
    "| `*=` | 小于等于 | a*=b等价于 a=a*b |\n",
    "| `/=` | 等于 | a/=b等价于 a=a/b |\n",
    "| `//=` | 等于 | a//=b等价于 a=a//b |\n",
    "| `%=` | 等于 | a%=b等价于 a=a%b |\n",
    "| `**=` | 等于 | a**=b等价于 a=a**b |"
   ]
  },
  {
   "cell_type": "code",
   "execution_count": 12,
   "id": "99c5f517-e20a-4f99-acfa-2764a051ae1a",
   "metadata": {},
   "outputs": [
    {
     "name": "stdout",
     "output_type": "stream",
     "text": [
      "a+=1,a= 3\n",
      "b=b+1,b= 3\n",
      "--------------------\n",
      "a-=1,a= 1\n",
      "b=b-1,b= 1\n",
      "--------------------\n",
      "a*=2,a= 4\n",
      "b=b*2,b= 4\n",
      "--------------------\n",
      "a/=2,a= 1.0\n",
      "b=b/2,b= 1.0\n",
      "--------------------\n",
      "a//=2,a= 1\n",
      "b=b//2,b= 1\n",
      "--------------------\n",
      "a%=3,a= 2\n",
      "b=b%3,b= 2\n",
      "--------------------\n",
      "a%=3,a= 2\n",
      "b=b%3,b= 2\n",
      "--------------------\n",
      "a**=3,a= 8\n",
      "b=b**3,b= 8\n"
     ]
    }
   ],
   "source": [
    "a,b = 2,2\n",
    "a += 1\n",
    "b = b+1\n",
    "print(\"a+=1,a=\",a)\n",
    "print(\"b=b+1,b=\",b)\n",
    "\n",
    "print(\"-\"*20)\n",
    "a,b = 2,2\n",
    "a -= 1\n",
    "b = b-1\n",
    "print(\"a-=1,a=\",a)\n",
    "print(\"b=b-1,b=\",b)\n",
    "\n",
    "print(\"-\"*20)\n",
    "a,b = 2,2\n",
    "a *= 2\n",
    "b = b*2\n",
    "print(\"a*=2,a=\",a)\n",
    "print(\"b=b*2,b=\",b)\n",
    "\n",
    "print(\"-\"*20)\n",
    "a,b = 2,2\n",
    "a /= 2\n",
    "b = b/2\n",
    "print(\"a/=2,a=\",a)\n",
    "print(\"b=b/2,b=\",b)\n",
    "\n",
    "print(\"-\"*20)\n",
    "a,b = 2,2\n",
    "a //= 2\n",
    "b = b//2\n",
    "print(\"a//=2,a=\",a)\n",
    "print(\"b=b//2,b=\",b)\n",
    "\n",
    "print(\"-\"*20)\n",
    "a,b = 2,2\n",
    "a %= 3\n",
    "b = b%3\n",
    "print(\"a%=3,a=\",a)\n",
    "print(\"b=b%3,b=\",b)\n",
    "\n",
    "print(\"-\"*20)\n",
    "a,b = 2,2\n",
    "a %= 3\n",
    "b = b%3\n",
    "print(\"a%=3,a=\",a)\n",
    "print(\"b=b%3,b=\",b)\n",
    "\n",
    "print(\"-\"*20)\n",
    "a,b = 2,2\n",
    "a **= 3\n",
    "b = b**3\n",
    "print(\"a**=3,a=\",a)\n",
    "print(\"b=b**3,b=\",b)"
   ]
  },
  {
   "cell_type": "markdown",
   "id": "62dd57a9-286e-417c-97c5-69af934a8ea7",
   "metadata": {},
   "source": [
    "#### 2.3.4 逻辑运算符\n",
    "| 运算符 | 描述 |\n",
    "| --- | --- |\n",
    "| `and` | 逻辑与 |\n",
    "| `or` | 逻辑或 |\n",
    "| `not` | 逻辑非 |"
   ]
  },
  {
   "cell_type": "code",
   "execution_count": 13,
   "id": "a135a654-00d1-4660-bf6c-c2e3d06f288b",
   "metadata": {},
   "outputs": [
    {
     "name": "stdout",
     "output_type": "stream",
     "text": [
      "a and b = False\n",
      "a or b = False\n",
      "not b = False\n"
     ]
    }
   ],
   "source": [
    "a,b = True,False\n",
    "print(\"a and b =\",a and b)\n",
    "print(\"a or b =\",a and b)\n",
    "print(\"not b =\",not a)"
   ]
  },
  {
   "cell_type": "markdown",
   "id": "31e779d0-7591-4a04-b419-28d7fe88b522",
   "metadata": {},
   "source": [
    "### 2.4 列表\n",
    "列表是一个有索引的序列，索引从0开始。\n",
    "\n",
    "列表式一个有序的可重复元素序列。列表是可变的，列表中的元素可以重复，可以是不同的类型。\n",
    "\n",
    "\n",
    "列表非常重要，他不仅是python开发中最常用的数据结构，同时也是python序列中最具代表性的一个。 当能够理解列表以后，剩下的其他序列学起来就没有那么困难。\n",
    "\n",
    "#### 2.4.1 列表的创建方法"
   ]
  },
  {
   "cell_type": "code",
   "execution_count": 35,
   "id": "f846c097-623d-42f4-806a-4c6e8e9b4c86",
   "metadata": {},
   "outputs": [
    {
     "name": "stdout",
     "output_type": "stream",
     "text": [
      "alist : [1, 2, 3, 4, 5, 6]\n",
      "blist : ['h', 'e', 'l', 'l', 'o', ' ', 'w', 'o', 'r', 'l', 'd', '!']\n"
     ]
    }
   ],
   "source": [
    "alist = [1,2,3,4,5,6] #列表使用[]表示，每个元素之间用,隔开\n",
    "print('alist :',alist)\n",
    "blist = list(\"hello world!\") #列表也可以使用list()函数将其他可迭代的对象转换为列表，比如字符串。字符串的结构我们会在字符串小节里具体介绍\n",
    "print('blist :',blist)"
   ]
  },
  {
   "cell_type": "markdown",
   "id": "2318875c-9550-4749-8b4b-b7bc116216f9",
   "metadata": {},
   "source": [
    "#### 2.4.2 访问元素的方法，索引与切片 \n",
    "\n",
    "python中的序列均有正向索引与反向索引，正向索引从0开始表示序列第一个元素，反向索引从-1开始表示\n",
    "以alist为例子，我们打印出alist中每个元素对于的正向索引与反向索引。"
   ]
  },
  {
   "cell_type": "code",
   "execution_count": 15,
   "id": "2f6a8d97-d4ce-41ab-bd66-68e12d535af7",
   "metadata": {},
   "outputs": [
    {
     "name": "stdout",
     "output_type": "stream",
     "text": [
      "elements:  1   2   3   4   5   6\n",
      "正向索引:   0   1   2   3   4   5\n",
      "反向索引:   -6  -5  -4  -3  -2  -1\n"
     ]
    }
   ],
   "source": [
    "print('elements: ','   '.join([str(i) for i in alist]))\n",
    "print('正向索引:  ','   '.join([str(i) for i in range(0,len(alist))]))\n",
    "print('反向索引:  ','  '.join([str(i) for i in range(-len(alist),0)]))#这里的len函数是用来获取列表长度的，后面会具体介绍"
   ]
  },
  {
   "cell_type": "code",
   "execution_count": 36,
   "id": "d2f4ca2c-6e0b-4c2f-92cc-ba259360a6d9",
   "metadata": {},
   "outputs": [
    {
     "name": "stdout",
     "output_type": "stream",
     "text": [
      "第一个元素:  1\n",
      "第一个元素:  1\n",
      "最后一个元素:  6\n",
      "最后一个元素:  6\n",
      "alist[1]=0\n",
      "[1, 0, 3, 4, 5, 6]\n"
     ]
    }
   ],
   "source": [
    "#取列表第一个元素的两种方式\n",
    "print('第一个元素: ',alist[0])\n",
    "print('第一个元素: ',alist[-6])\n",
    "\n",
    "#取列表最后一个元素的两种方式\n",
    "print('最后一个元素: ',alist[-1])\n",
    "print('最后一个元素: ',alist[5])\n",
    "\n",
    "#修改第二个元素\n",
    "print('alist[1]=0')\n",
    "alist[1]=0\n",
    "print(alist)\n",
    "\n",
    "#删除第二个元素\n",
    "del alist[1]\n",
    "print(alist)"
   ]
  },
  {
   "cell_type": "markdown",
   "id": "faeb6594-2be1-4937-861b-5ba3740f6542",
   "metadata": {},
   "source": [
    "列表支持切片操作，即截取列表中的一部分长度的操作。\n",
    "\n",
    "具体语法为 list_name\\[start_index:end_index:step\\]。\n",
    "\n",
    "start_index为起点索引，end_index为终点索引，step为步长。要注意截取的部分为\\[start_index,end_index\\),也就是不包括end_index。\n",
    "\n",
    "其中step缺省时默认步长为1，start_index缺省时默认为第一个元素，end_index缺省时默认为最后一个元素。"
   ]
  },
  {
   "cell_type": "code",
   "execution_count": 26,
   "id": "95974b00-2bda-4822-96bb-128fdaa4ac43",
   "metadata": {},
   "outputs": [
    {
     "name": "stdout",
     "output_type": "stream",
     "text": [
      "[1, 2, 3, 4, 5, 6]\n",
      "获取前三个元素\n",
      "alist[0:3]:  [1, 2, 3]\n",
      "alist[:3]:  [1, 2, 3]\n",
      "获取第二个到第四个元素（索引1至3）\n",
      "alist[1:4]:  [2, 3, 4]\n",
      "获取最后三个元素\n",
      "alist[-3:]:  [4, 5, 6]\n",
      "获取所有索引为奇数的元素\n",
      "alist[1::2]:  [2, 4, 6]\n",
      "获取所有索引为偶数的元素\n",
      "alist[::2]:  [1, 3, 5]\n"
     ]
    }
   ],
   "source": [
    "alist = [1,2,3,4,5,6]\n",
    "print(alist)\n",
    "\n",
    "print('获取前三个元素')\n",
    "print('alist[0:3]: ',alist[0:3])\n",
    "print('alist[:3]: ',alist[:3])\n",
    "\n",
    "print('获取第二个到第四个元素（索引1至3）')\n",
    "print('alist[1:4]: ',alist[1:4])\n",
    "\n",
    "print('获取最后三个元素')\n",
    "print('alist[-3:]: ',alist[-3:])\n",
    "\n",
    "print('获取所有索引为奇数的元素')\n",
    "print('alist[1::2]: ',alist[1::2])\n",
    "\n",
    "print('获取所有索引为偶数的元素')\n",
    "print('alist[::2]: ',alist[::2])"
   ]
  },
  {
   "cell_type": "markdown",
   "id": "540311e9-3348-44c7-b98e-3a217ae51d8c",
   "metadata": {
    "tags": []
   },
   "source": [
    "#### 2.4.3 列表运算符\n",
    "| 运算符 | 描述 |\n",
    "| --- | --- |\n",
    "| `+` | 拼接两个列表 |\n",
    "| `*` | 列表*整数，将列表重复 |\n",
    "| `in` | 元素是否在列表内|"
   ]
  },
  {
   "cell_type": "code",
   "execution_count": 31,
   "id": "cdde5829-8a91-42be-8d01-3853b888af2d",
   "metadata": {},
   "outputs": [
    {
     "name": "stdout",
     "output_type": "stream",
     "text": [
      "alist+blist:  [1, 2, 3, 4, 5, 6]\n",
      "alist*3:  [1, 2, 3, 1, 2, 3, 1, 2, 3]\n",
      "3 in alist:  True\n",
      "4 in alist:  False\n"
     ]
    }
   ],
   "source": [
    "alist = [1,2,3]\n",
    "blist = [4,5,6]\n",
    "print('alist+blist: ',alist+blist)\n",
    "print('alist*3: ',alist*3)\n",
    "print('3 in alist: ',3 in alist)\n",
    "print('4 in alist: ',4 in alist)"
   ]
  },
  {
   "cell_type": "markdown",
   "id": "42156728-d4e5-4804-9026-894a6f649d43",
   "metadata": {
    "tags": []
   },
   "source": [
    "#### 2.4.3 列表函数与方法\n",
    "| 函数名 | 描述 |\n",
    "| --- | --- |\n",
    "| `len()` | 列表长度 |\n",
    "| `max()` | 列表中的最大值|\n",
    "| `min()` | 列表中的最小值|\n",
    "\n",
    "| 方法名 | 描述 |返回值|\n",
    "| --- | --- | --- |\n",
    "| `list.append(obj)` | 在列表末尾添加新元素 | 无，原地操作 |\n",
    "| `list.count(obj)` | 统计一个元素在列表中出现的次数 | 返回该元素出现的次数 |\n",
    "| `list.extend(seq)` | 将一个序列中的所有元素添加到列表末尾 | 无，原地操作 |\n",
    "| `list.index(obj)` | 从列表中找出某个值第一个匹配项的索引位置 | 返回索引 |\n",
    "| `list.insert(index, obj)` | 将元素插入列表中的指定位置 | 无，原地操作 |\n",
    "| `list.pop([index=-1])` | 移除列表中的一个元素（默认最后一个元素），并且返回该元素的值 | 返回移除的元素值 |\n",
    "| `list.remove(obj)` | 移除列表中某个值第一个匹配项 | 无，原地操作 |\n",
    "| `list.reverse()` | 逆向排列列表中的所有元素 | 无，原地操作 |\n",
    "| `list.sort(key=None,reverse=False)` | 对列表内元素进行排序，默认为升序 | 无，原地操作 |\n",
    "| `list.clear()` | 清空列表 | 无，原地操作 |\n",
    "| `list.copy()` | 复制列表 | 复制后的列表 |"
   ]
  },
  {
   "cell_type": "code",
   "execution_count": 32,
   "id": "6148fe46-7be5-40f2-8d07-fa333573eb07",
   "metadata": {},
   "outputs": [
    {
     "name": "stdout",
     "output_type": "stream",
     "text": [
      "10\n",
      "8\n",
      "0\n",
      "None\n"
     ]
    },
    {
     "data": {
      "text/plain": [
       "[0, 1, 1, 2, 3, 4, 5, 6, 7, 8, 10, 11]"
      ]
     },
     "execution_count": 32,
     "metadata": {},
     "output_type": "execute_result"
    }
   ],
   "source": [
    "alist = [0,1,1,2,3,4,5,6,7,8]\n",
    "print(len(alist))\n",
    "print(max(alist))\n",
    "print(min(alist))\n",
    "alist.append(10)\n",
    "alist.count(1)#return 次数\n",
    "alist.extend([11,12])\n",
    "alist.index(1) #有两个1，但只会返回第第一个的索引\n",
    "alist.insert(1,0)\n",
    "alist.pop()\n",
    "print(alist.remove(0))\n",
    "alist.reverse()\n",
    "#alist.clear()\n",
    "alist.sort(key=None,reverse=False)\n",
    "alist"
   ]
  },
  {
   "cell_type": "code",
   "execution_count": 22,
   "id": "d7c4b970-c017-4444-9113-e64fb8c7984b",
   "metadata": {},
   "outputs": [
    {
     "name": "stdout",
     "output_type": "stream",
     "text": [
      "[11, 10, 8, 7, 6, 5, 4, 3, 2, 1, 1, 0, 10]\n"
     ]
    }
   ],
   "source": [
    "alist.append(10)#.append不会返回任何内容，直接在原列表上操作\n",
    "print(alist)"
   ]
  },
  {
   "cell_type": "code",
   "execution_count": 30,
   "id": "d1532b8c-6269-4753-a040-94d5b9d2775b",
   "metadata": {},
   "outputs": [
    {
     "name": "stdout",
     "output_type": "stream",
     "text": [
      "10出现的次数: 1\n",
      "1出现的次数: 2\n"
     ]
    }
   ],
   "source": [
    "print('10出现的次数:',alist.count(10))#.count会返回该元素出现的次数平\n",
    "print('1出现的次数:',alist.count(1))"
   ]
  },
  {
   "cell_type": "code",
   "execution_count": 33,
   "id": "1d945383-3f97-43b4-981c-025361efcdb9",
   "metadata": {},
   "outputs": [
    {
     "name": "stdout",
     "output_type": "stream",
     "text": [
      "[0, 1, 1, 2, 3, 4, 5, 6, 7, 8, 10, 11, 11, 12]\n"
     ]
    }
   ],
   "source": [
    "alist.extend([11,12])#.extend不会返回任何内容，直接在原列表上操作\n",
    "print(alist)"
   ]
  },
  {
   "cell_type": "code",
   "execution_count": 35,
   "id": "7033451e-3a76-4180-83b1-d18335ff2ccc",
   "metadata": {},
   "outputs": [
    {
     "name": "stdout",
     "output_type": "stream",
     "text": [
      "1出现的首个索引为 1\n",
      "2出现的首个索引为 3\n"
     ]
    }
   ],
   "source": [
    "print('1出现的首个索引为',alist.index(1))#.index会返回匹配到的首个元素的索引,即1，而非2\n",
    "print('2出现的首个索引为',alist.index(2))"
   ]
  },
  {
   "cell_type": "code",
   "execution_count": 36,
   "id": "fe165596-1c42-4b63-bdf5-653b05501ce1",
   "metadata": {},
   "outputs": [
    {
     "name": "stdout",
     "output_type": "stream",
     "text": [
      "[0, 0, 1, 1, 2, 3, 4, 5, 6, 7, 8, 10, 11, 11, 12]\n"
     ]
    }
   ],
   "source": [
    "alist.insert(1,0)#在索引为1的位置插入一个0，没有返回值\n",
    "print(alist)"
   ]
  },
  {
   "cell_type": "code",
   "execution_count": 37,
   "id": "85378b21-cd1f-4ab3-8bdf-2b4b0150636c",
   "metadata": {},
   "outputs": [
    {
     "name": "stdout",
     "output_type": "stream",
     "text": [
      "移除最后一个元素:  12\n",
      "[0, 0, 1, 1, 2, 3, 4, 5, 6, 7, 8, 10, 11, 11]\n",
      "移除索引为6的元素:  4\n",
      "[0, 0, 1, 1, 2, 3, 5, 6, 7, 8, 10, 11, 11]\n"
     ]
    }
   ],
   "source": [
    "print(\"移除最后一个元素: \",alist.pop())#移除最后元素，没有返回值\n",
    "print(alist)\n",
    "print(\"移除索引为6的元素: \",alist.pop(6))#移除索引为6的元素，没有返回值\n",
    "print(alist)"
   ]
  },
  {
   "cell_type": "code",
   "execution_count": 38,
   "id": "e9447fbc-a7f0-4ac9-abc8-ad2ba392568c",
   "metadata": {},
   "outputs": [
    {
     "name": "stdout",
     "output_type": "stream",
     "text": [
      "[0, 0, 1, 1, 2, 3, 5, 6, 7, 8, 10, 11]\n"
     ]
    }
   ],
   "source": [
    "alist.remove(11)#删除第一个等于11的元素，但没有返回值\n",
    "print(alist)"
   ]
  },
  {
   "cell_type": "code",
   "execution_count": 40,
   "id": "c40a49bd-e43d-41e2-8ef2-2145b10706ab",
   "metadata": {},
   "outputs": [
    {
     "name": "stdout",
     "output_type": "stream",
     "text": [
      "[10, 8, 7, 6, 5, 3, 2, 1, 1, 0, 0]\n"
     ]
    }
   ],
   "source": [
    "alist.reverse()#逆向排列列表中的所有元素\n",
    "print(alist)"
   ]
  },
  {
   "cell_type": "code",
   "execution_count": 42,
   "id": "644762dd-114e-447b-8be3-96960a9e0b72",
   "metadata": {},
   "outputs": [
    {
     "name": "stdout",
     "output_type": "stream",
     "text": [
      "[0, 0, 1, 1, 2, 3, 5, 6, 7, 8, 10]\n",
      "[10, 8, 7, 6, 5, 3, 2, 1, 1, 0, 0]\n"
     ]
    }
   ],
   "source": [
    "alist.sort()#将列表中的所有元素按升序排列，没有返回值\n",
    "print(alist)\n",
    "alist.sort(reverse=True)#将列表中的所有元素按降序排列，没有返回值\n",
    "print(alist)"
   ]
  },
  {
   "cell_type": "code",
   "execution_count": 44,
   "id": "768c1835-b28e-4dee-8a98-4beb9d830d19",
   "metadata": {},
   "outputs": [
    {
     "name": "stdout",
     "output_type": "stream",
     "text": [
      "alist_copy:  [10, 8, 7, 6, 5, 3, 2, 1, 1, 0, 0]\n",
      "alist_copy:  []\n",
      "alist:  []\n"
     ]
    }
   ],
   "source": [
    "#copy和clear我们放到一起讲\n",
    "#如何备份一个alist?直接=和使用copy的区别？\n",
    "alist_copy = alist#\n",
    "print('alist_copy: ',alist_copy)\n",
    "alist_copy.clear()#清空alist_copy\n",
    "print('alist_copy: ',alist_copy)\n",
    "print('alist: ',alist)"
   ]
  },
  {
   "cell_type": "markdown",
   "id": "e6563be6-8223-45c7-9754-1f98e12bb1c8",
   "metadata": {},
   "source": [
    "alist_copy = alist时并没有新建一个对象，而只是单纯赋值了alist的地址给alist_copy。这会导致我们对变量alist_copy的所有操作本质上都是在操作alist。而当我们使用.copy()方法进行赋值时，会复制alist为一个新的对象，此时对新对象的修改不会影响到alist。"
   ]
  },
  {
   "cell_type": "code",
   "execution_count": 46,
   "id": "3ea1de64-f9a9-4860-8404-355f812319f1",
   "metadata": {},
   "outputs": [
    {
     "name": "stdout",
     "output_type": "stream",
     "text": [
      "alist_copy:  [10, 8, 7, 6, 5, 3, 2, 1, 1, 0, 0]\n",
      "alist_copy:  []\n",
      "alist:  [10, 8, 7, 6, 5, 3, 2, 1, 1, 0, 0]\n"
     ]
    }
   ],
   "source": [
    "alist = [10, 8, 7, 6, 5, 3, 2, 1, 1, 0, 0]\n",
    "alist_copy = alist.copy()\n",
    "print('alist_copy: ',alist_copy)\n",
    "alist_copy.clear()#清空alist_copy\n",
    "print('alist_copy: ',alist_copy)\n",
    "print('alist: ',alist)"
   ]
  },
  {
   "cell_type": "code",
   "execution_count": 26,
   "id": "4e2b12d8-bdf9-4dd5-bb95-68594ea6291c",
   "metadata": {},
   "outputs": [
    {
     "data": {
      "text/plain": [
       "0.336"
      ]
     },
     "execution_count": 26,
     "metadata": {},
     "output_type": "execute_result"
    }
   ],
   "source": [
    "33.6/100"
   ]
  },
  {
   "cell_type": "code",
   "execution_count": 25,
   "id": "cccb3a6b-0c34-4804-85a3-02c7b1119a9e",
   "metadata": {},
   "outputs": [
    {
     "data": {
      "text/plain": [
       "0.33199999999999996"
      ]
     },
     "execution_count": 25,
     "metadata": {},
     "output_type": "execute_result"
    }
   ],
   "source": [
    "49.8/150"
   ]
  },
  {
   "cell_type": "markdown",
   "id": "c6690720-e26d-48d8-b3c3-2244ef0d564b",
   "metadata": {},
   "source": [
    "### 2.6 元组\n",
    "\n",
    "元组和列表很相似，但是元组创建后不可修改。\n",
    "\n",
    "元组使用()来表示，创建元组和列表一样，只要在()内添加元素并用逗号隔开就行。"
   ]
  },
  {
   "cell_type": "code",
   "execution_count": 51,
   "id": "29e44542-c027-4789-8239-61a8ce4235d0",
   "metadata": {},
   "outputs": [
    {
     "name": "stdout",
     "output_type": "stream",
     "text": [
      "1\n",
      "(2, 3)\n"
     ]
    }
   ],
   "source": [
    "atuple = (1,2,3)\n",
    "print(atuple[0])\n",
    "print(atuple[1:3])#元组的索引与切片与列表一致"
   ]
  },
  {
   "cell_type": "code",
   "execution_count": 52,
   "id": "a4db2496-d2c8-4d58-a32b-601ebcb6e038",
   "metadata": {},
   "outputs": [
    {
     "ename": "TypeError",
     "evalue": "'tuple' object does not support item assignment",
     "output_type": "error",
     "traceback": [
      "\u001b[1;31m---------------------------------------------------------------------------\u001b[0m",
      "\u001b[1;31mTypeError\u001b[0m                                 Traceback (most recent call last)",
      "\u001b[1;32m~\\AppData\\Local\\Temp\\ipykernel_23808\\2873906481.py\u001b[0m in \u001b[0;36m<module>\u001b[1;34m\u001b[0m\n\u001b[0;32m      1\u001b[0m \u001b[1;31m#当尝试修改元组内部的元素时，会报错\u001b[0m\u001b[1;33m\u001b[0m\u001b[1;33m\u001b[0m\u001b[1;33m\u001b[0m\u001b[0m\n\u001b[1;32m----> 2\u001b[1;33m \u001b[0matuple\u001b[0m\u001b[1;33m[\u001b[0m\u001b[1;36m1\u001b[0m\u001b[1;33m]\u001b[0m\u001b[1;33m=\u001b[0m\u001b[1;36m2\u001b[0m\u001b[1;33m\u001b[0m\u001b[1;33m\u001b[0m\u001b[0m\n\u001b[0m",
      "\u001b[1;31mTypeError\u001b[0m: 'tuple' object does not support item assignment"
     ]
    }
   ],
   "source": [
    "#当尝试修改元组内部的元素时，会报错\n",
    "atuple[1]=2"
   ]
  },
  {
   "cell_type": "markdown",
   "id": "6f2c573b-e180-447b-bc3a-ac5a2177d868",
   "metadata": {},
   "source": [
    "### 2.6.1 元组的运算符\n",
    "元组的运算符与列表一模一样\n",
    "| 运算符 | 描述 |\n",
    "| --- | --- |\n",
    "| `+` | 拼接两个元组 |\n",
    "| `*` | 列表*整数，将元组重复 |\n",
    "| `in` | 元素是否在元组内|"
   ]
  },
  {
   "cell_type": "code",
   "execution_count": 48,
   "id": "00106b20-8d12-4ccf-be0c-13b9a8ae3146",
   "metadata": {},
   "outputs": [
    {
     "name": "stdout",
     "output_type": "stream",
     "text": [
      "alist+blist:  (1, 2, 3, 4, 5, 6)\n",
      "alist*3:  (1, 2, 3, 1, 2, 3, 1, 2, 3)\n",
      "3 in alist:  True\n",
      "4 in alist:  False\n"
     ]
    }
   ],
   "source": [
    "atuple = (1,2,3)\n",
    "btuple = (4,5,6)\n",
    "print('alist+blist: ',atuple+btuple)\n",
    "print('alist*3: ',atuple*3)\n",
    "print('3 in alist: ',3 in atuple)\n",
    "print('4 in alist: ',4 in atuple)"
   ]
  },
  {
   "cell_type": "markdown",
   "id": "a8f5c96b-358f-48fd-b94a-84cf2899dbd8",
   "metadata": {},
   "source": [
    "### 2.6.2 元组的函数\n",
    "元组支持的函数也与列表一模一样\n",
    "| 函数名 | 描述 |\n",
    "| --- | --- |\n",
    "| `len()` | 列表长度 |\n",
    "| `max()` | 列表中的最大值|\n",
    "| `min()` | 列表中的最小值|"
   ]
  },
  {
   "cell_type": "code",
   "execution_count": 53,
   "id": "dd7abb3e-0e88-45ad-8541-fe628a7a0eb2",
   "metadata": {},
   "outputs": [
    {
     "name": "stdout",
     "output_type": "stream",
     "text": [
      "4\n",
      "4\n",
      "1\n"
     ]
    }
   ],
   "source": [
    "atuple = (1,2,3,4)\n",
    "print(len(atuple))\n",
    "print(max(atuple))\n",
    "print(min(atuple))"
   ]
  },
  {
   "cell_type": "markdown",
   "id": "cecc00df-0441-49a0-a7a5-c5ddf4f7bf24",
   "metadata": {},
   "source": [
    "### 2.7 集合\n",
    "集合是无序的不重复的元素序列，支持交集、并集、差集等常见的集合操作。\n",
    "\n",
    "集合的创建使用{}表示，并用,隔开。注意如果需要创建一个空集合需要使用set()。"
   ]
  },
  {
   "cell_type": "code",
   "execution_count": 2,
   "id": "c5813788-8998-4ec4-8917-2f95b9ce0f45",
   "metadata": {},
   "outputs": [
    {
     "name": "stdout",
     "output_type": "stream",
     "text": [
      "{1, 2, 3, 4, 5}\n"
     ]
    }
   ],
   "source": [
    "#新建一个集合\n",
    "aset = {1,2,3,4,5}\n",
    "print('这是一个新集合: ',aset)"
   ]
  },
  {
   "cell_type": "code",
   "execution_count": 3,
   "id": "3d769326-4e35-473a-a939-53f46800b1f0",
   "metadata": {},
   "outputs": [
    {
     "name": "stdout",
     "output_type": "stream",
     "text": [
      "这是一个空集合:  set()\n"
     ]
    }
   ],
   "source": [
    "#新建一个空集合\n",
    "aset = set()\n",
    "print('这是一个空集合: ',aset)"
   ]
  },
  {
   "cell_type": "code",
   "execution_count": 5,
   "id": "607c8e66-5804-4888-aee3-338cf5290c38",
   "metadata": {},
   "outputs": [
    {
     "name": "stdout",
     "output_type": "stream",
     "text": [
      "alist:  [1, 1, 1, 1, 2, 2, 2, 2, 3, 3, 3]\n",
      "aset:  {1, 2, 3}\n"
     ]
    }
   ],
   "source": [
    "#将其他序列转换成集合,注意观察转换前后的变化\n",
    "alist = [1,1,1,1,2,2,2,2,3,3,3]\n",
    "print('alist: ',alist)\n",
    "aset = set(alist)\n",
    "print('aset: ',aset)"
   ]
  },
  {
   "cell_type": "markdown",
   "id": "868f9faa-536c-4c3b-8849-168b560d4d66",
   "metadata": {},
   "source": [
    "#### 2.7.1 集合的常用方法\n",
    "| 方法名称 | 描述 | 返回值 |\n",
    "| --- | --- | --- |\n",
    "| add() | 为集合添加元素 | 无返回值，原地操作 |\n",
    "|clear() |移除集合中的所有元素| 无返回值，原地操作 |\n",
    "| copy() |拷贝一个集合 | 返回拷贝后新创建的集合 |\n",
    "| difference() | 返回多个集合的差集 | 返回差集结果 |\n",
    "| intersection() | 返回集合的交集 |返回交集结果 |\n",
    "| union() | 返回两个集合的并集 | 返回并集结果 |\n",
    "| symmetric_difference() | 返回两个集合中不重复的元素集合 | 返回两个集合中不重复的元素集合 |\n",
    "| isdisjoint() | 判断两个集合是否包含相同的元素 | bool,如果没有返回 True，否则返回 False  |\n",
    "| issubset() | 判断指定集合是否为该方法参数集合的子集 | bool,如果没有返回 True，否则返回 False  |\n",
    "| issuperset() | 判断该方法的参数集合是否为指定集合的子集 | bool,如果没有返回 True，否则返回 False  |\n",
    "| update() | 合并两个集合，传入的参数必须是一个集合 | 无返回值，原地操作 |\n",
    "| pop() | 随机移除元素 | 返回被移除的元素 |\n",
    "| remove() | 移除指定元素 | 无返回值，原地操作 |\n",
    "| discard() | 删除集合中指定的元素 | 无返回值，原地操作 |\n"
   ]
  },
  {
   "cell_type": "code",
   "execution_count": 21,
   "id": "edefdda0-8dde-4198-a1d4-8ce52f91fd43",
   "metadata": {},
   "outputs": [],
   "source": [
    "aset = {1,2,3}\n",
    "bset = {3,4,5}"
   ]
  },
  {
   "cell_type": "code",
   "execution_count": 8,
   "id": "bb5f26b7-d6e1-4cd7-9ca0-67c22f63c1ef",
   "metadata": {},
   "outputs": [
    {
     "name": "stdout",
     "output_type": "stream",
     "text": [
      "{1, 2, 3}\n",
      "{1, 2, 3, 4}\n"
     ]
    }
   ],
   "source": [
    "print(aset)\n",
    "aset.add(4)\n",
    "print(aset)"
   ]
  },
  {
   "cell_type": "code",
   "execution_count": 11,
   "id": "bb8388cc-29bb-4f9f-b1d1-a5a2e37917e4",
   "metadata": {},
   "outputs": [
    {
     "name": "stdout",
     "output_type": "stream",
     "text": [
      "aset:  {1, 2, 3, 4}\n",
      "bset:  {3, 4, 5}\n",
      "aset.difference(bset) : {1, 2}\n"
     ]
    }
   ],
   "source": [
    "#计算差集\n",
    "print('aset: ',aset)\n",
    "print('bset: ',bset)\n",
    "print('aset.difference(bset) :',aset.difference(bset))"
   ]
  },
  {
   "cell_type": "code",
   "execution_count": 12,
   "id": "4aaa4939-bca8-4be2-a8d7-c88142e209ff",
   "metadata": {},
   "outputs": [
    {
     "name": "stdout",
     "output_type": "stream",
     "text": [
      "aset:  {1, 2, 3, 4}\n",
      "bset:  {3, 4, 5}\n",
      "aset.intersection(bset) : {3, 4}\n"
     ]
    }
   ],
   "source": [
    "#计算交集\n",
    "print('aset: ',aset)\n",
    "print('bset: ',bset)\n",
    "print('aset.intersection(bset) :',aset.intersection(bset))"
   ]
  },
  {
   "cell_type": "code",
   "execution_count": 13,
   "id": "c11523b3-3881-4b9a-80a8-133f548253b0",
   "metadata": {},
   "outputs": [
    {
     "name": "stdout",
     "output_type": "stream",
     "text": [
      "aset:  {1, 2, 3, 4}\n",
      "bset:  {3, 4, 5}\n",
      "aset.union(bset) : {1, 2, 3, 4, 5}\n"
     ]
    }
   ],
   "source": [
    "#计算并集\n",
    "print('aset: ',aset)\n",
    "print('bset: ',bset)\n",
    "print('aset.union(bset) :',aset.union(bset))"
   ]
  },
  {
   "cell_type": "code",
   "execution_count": 14,
   "id": "41db56c3-166f-4bba-9f69-ba3cbdf1a516",
   "metadata": {},
   "outputs": [
    {
     "name": "stdout",
     "output_type": "stream",
     "text": [
      "aset:  {1, 2, 3, 4}\n",
      "bset:  {3, 4, 5}\n",
      "aset.symmetric_difference(bset) : {1, 2, 5}\n"
     ]
    }
   ],
   "source": [
    "#计算两个集合中不重复的元素集合\n",
    "print('aset: ',aset)\n",
    "print('bset: ',bset)\n",
    "print('aset.symmetric_difference(bset) :',aset.symmetric_difference(bset))"
   ]
  },
  {
   "cell_type": "code",
   "execution_count": 17,
   "id": "7e41b808-13da-4b78-8edc-af6cb46b3fc3",
   "metadata": {},
   "outputs": [
    {
     "name": "stdout",
     "output_type": "stream",
     "text": [
      "aset:  {1, 2, 3, 4}\n",
      "bset:  {3, 4, 5}\n",
      "aset.isdisjoint(bset) : False\n",
      "aset.isdisjoint({-1,0}) : True\n"
     ]
    }
   ],
   "source": [
    "#判断两个集合是否包含相同的元素\n",
    "print('aset: ',aset)\n",
    "print('bset: ',bset)\n",
    "print('aset.isdisjoint(bset) :',aset.isdisjoint(bset))\n",
    "print('aset.isdisjoint({-1,0}) :',aset.isdisjoint({-1,0}))"
   ]
  },
  {
   "cell_type": "code",
   "execution_count": 18,
   "id": "6f6e34b8-efd1-4cb8-9d41-9fab76ceb995",
   "metadata": {},
   "outputs": [
    {
     "name": "stdout",
     "output_type": "stream",
     "text": [
      "aset:  {1, 2, 3, 4}\n",
      "bset:  {3, 4, 5}\n",
      "aset.issubset(bset) : False\n",
      "aset.issubset(aset.union(bset)) : True\n"
     ]
    }
   ],
   "source": [
    "#判判断指定集合是否为该方法参数集合的子集\n",
    "print('aset: ',aset)\n",
    "print('bset: ',bset)\n",
    "print('aset.issubset(bset) :',aset.issubset(bset))\n",
    "print('aset.issubset(aset.union(bset)) :',aset.issubset(aset.union(bset)))"
   ]
  },
  {
   "cell_type": "code",
   "execution_count": null,
   "id": "212809f9-1261-4109-adc3-ac2e692fc18c",
   "metadata": {},
   "outputs": [],
   "source": [
    "#判判断指定集合是否为该方法参数集合的超集\n",
    "print('aset: ',aset)\n",
    "print('bset: ',bset)\n",
    "print('aset.issuperset(bset) :',aset.issuperset(bset))\n",
    "print('aset.issuperset(aset.union(bset)) :',aset.issuperset(aset.union(bset)))"
   ]
  },
  {
   "cell_type": "code",
   "execution_count": 20,
   "id": "12c427f8-c1a2-4e2f-829b-2bc1db3cc6ec",
   "metadata": {},
   "outputs": [
    {
     "name": "stdout",
     "output_type": "stream",
     "text": [
      "aset:  {1, 2, 3, 4, 5}\n",
      "bset:  {3, 4, 5}\n",
      "aset.update(bset)后的aset : {1, 2, 3, 4, 5}\n"
     ]
    }
   ],
   "source": [
    "#合并两个集合\n",
    "print('aset: ',aset)\n",
    "print('bset: ',bset)\n",
    "aset.update(bset)\n",
    "print('aset.update(bset)后的aset :',aset)"
   ]
  },
  {
   "cell_type": "code",
   "execution_count": 23,
   "id": "2e73b24b-d5b4-4d11-b3f1-07a46ab63e7c",
   "metadata": {},
   "outputs": [
    {
     "name": "stdout",
     "output_type": "stream",
     "text": [
      "aset:  {2, 3}\n",
      "aset.pop() : 2\n",
      "aset:  {3}\n"
     ]
    }
   ],
   "source": [
    "#使用pop随机删除集合中的一个元素\n",
    "print('aset: ',aset)\n",
    "print('aset.pop() :',aset.pop())\n",
    "print('aset: ', aset)"
   ]
  },
  {
   "cell_type": "code",
   "execution_count": 28,
   "id": "062d6364-d0d7-477c-b293-eebb8c9c547b",
   "metadata": {},
   "outputs": [
    {
     "name": "stdout",
     "output_type": "stream",
     "text": [
      "bset:  {3, 4, 5}\n",
      "bset:  {4, 5}\n",
      "bset:  {5}\n"
     ]
    }
   ],
   "source": [
    "#使用remove或discard删除集合中的指定的一个元素\n",
    "bset = {3,4,5}\n",
    "print('bset: ',bset)\n",
    "bset.remove(3)\n",
    "print('bset: ', bset)\n",
    "bset.discard(4)\n",
    "print('bset: ', bset)"
   ]
  },
  {
   "cell_type": "markdown",
   "id": "2fc25493-0fdc-4fae-91d4-f510874495ab",
   "metadata": {},
   "source": [
    "### 2.8 字典\n",
    "字典是一个无序的可以修改的序列，每一个元素都由一对key与value组成，key为对应value的索引。\n",
    "\n",
    "key不可重复，且需要是不可变对象（可hash），可以是数字，字符串，元组等，但不能是列表。value可以重复\n",
    "\n",
    "字典的创建可以用dict()或者{key1:value1,key2:value2,...}来创建。还记得在集合中我们提过{}能用于创建空集合，是因为{}创建的是一个空字典"
   ]
  },
  {
   "cell_type": "code",
   "execution_count": 39,
   "id": "6f115302-14f2-4787-ad1d-8cab4379bbfb",
   "metadata": {},
   "outputs": [
    {
     "name": "stdout",
     "output_type": "stream",
     "text": [
      "adict['list'] : [1, 2, 3]\n",
      "adict['list'] = [3]后的adict:  {'list': [3], 'list2': [1, 2, 3], 'interLM': 'LLM', 1: 'summer camp', 2: 'internLM'}\n",
      "{'list': [3], 'interLM': 'LLM', 1: 'summer camp', 2: 'internLM'}\n"
     ]
    }
   ],
   "source": [
    "adict = {\"list\" : [1,2,3],'list2':[1,2,3],'interLM': 'LLM', 1:'summer camp',2:'internLM'}\n",
    "#访问key为list的元素的值\n",
    "print(\"adict['list'] :\", adict['list'])\n",
    "#修改key为list的元素的值\n",
    "adict['list'] = [3]\n",
    "print(\"adict['list'] = [3]后的adict: \",adict)\n",
    "#删除字典中的元素\n",
    "del adict['list2']\n",
    "print(adict)"
   ]
  },
  {
   "cell_type": "code",
   "execution_count": 37,
   "id": "6772a4d5-3fab-4b1f-8b85-ddbebd4ea70a",
   "metadata": {},
   "outputs": [
    {
     "name": "stdout",
     "output_type": "stream",
     "text": [
      "dict()  <class 'dict'>\n",
      "{}  <class 'dict'>\n"
     ]
    }
   ],
   "source": [
    "#再来看看{}和dict()创建的空字典\n",
    "print(\"dict() \",type(dict()))\n",
    "print(\"{} \",type({}))"
   ]
  },
  {
   "cell_type": "markdown",
   "id": "d15c264e-262f-4b9b-8dbe-5709b79c7922",
   "metadata": {},
   "source": [
    "#### 2.8.1 字典的常用方法\n",
    "\n",
    "|方法名 | 描述 |\n",
    "| --- | --- |\n",
    "| dict.clear() | 删除字典内所有元素 | \n",
    "| dict.copy() | 返回一个字典的浅复制 |\n",
    "| dict.fromkeys() | 创建一个新字典，以序列seq中元素做字典的键，val为字典所有键对应的初始值 |\n",
    "| dict.get(key, default=None) | 返回指定键的值，如果键不在字典中返回 default 设置的默认值 |\n",
    "| dict.items() | 返回字典内所有的key value对|\n",
    "| dict.keys() | 返回所有的key |\n",
    "| dict.values() | 返回所有的values |\n",
    "| dict.update(dict2) | 把字典dict2的键/值对更新到dict里 |\n",
    "| pop(key[,default]) | 删除字典 key（键）所对应的值，返回被删除的值。|\n",
    "\n",
    "示例代码只会展示字典与列表不同的方法，对于名称与功能与列表相同的方法不再做展"
   ]
  },
  {
   "cell_type": "code",
   "execution_count": 43,
   "id": "66a65e40-623f-441f-be8d-b0f2de1c77fa",
   "metadata": {},
   "outputs": [
    {
     "data": {
      "text/plain": [
       "{1: 0, 2: 0, 3: 0, 4: 0}"
      ]
     },
     "execution_count": 43,
     "metadata": {},
     "output_type": "execute_result"
    }
   ],
   "source": [
    "#使用fromkeys创建key为[1,2,3,4]\n",
    "dict.fromkeys([1,2,3,4],0) "
   ]
  },
  {
   "cell_type": "code",
   "execution_count": 48,
   "id": "91b015bb-ccdd-488f-9886-48b6bcddf253",
   "metadata": {},
   "outputs": [
    {
     "name": "stdout",
     "output_type": "stream",
     "text": [
      "[3]\n",
      "None\n",
      "1\n"
     ]
    }
   ],
   "source": [
    "#使用get查询值，可以使用default参数设置当key不存在时的返回值\n",
    "print(adict.get(\"list\",1))\n",
    "print(adict.get(\"list3\"))\n",
    "print(adict.get('list3',1))"
   ]
  },
  {
   "cell_type": "code",
   "execution_count": 51,
   "id": "f3907abf-99bc-490d-a63a-1affd0fe7a14",
   "metadata": {},
   "outputs": [
    {
     "name": "stdout",
     "output_type": "stream",
     "text": [
      "dict_items([('list', [3]), ('interLM', 'LLM'), (1, 'summer camp'), (2, 'internLM')])\n"
     ]
    }
   ],
   "source": [
    "#使用items获取所有的key value对.是一个序列\n",
    "print(adict.items())"
   ]
  },
  {
   "cell_type": "code",
   "execution_count": 52,
   "id": "ea1ee442-8108-45f5-b7bc-bb1295e751cb",
   "metadata": {},
   "outputs": [
    {
     "name": "stdout",
     "output_type": "stream",
     "text": [
      "dict_keys(['list', 'interLM', 1, 2])\n"
     ]
    }
   ],
   "source": [
    "#使用items获取所有的key\n",
    "print(adict.keys())"
   ]
  },
  {
   "cell_type": "code",
   "execution_count": 53,
   "id": "bdfcaa55-74e5-43a3-80ec-63fc85392f62",
   "metadata": {},
   "outputs": [
    {
     "name": "stdout",
     "output_type": "stream",
     "text": [
      "dict_values([[3], 'LLM', 'summer camp', 'internLM'])\n"
     ]
    }
   ],
   "source": [
    "#使用items获取所有的values\n",
    "print(adict.values())"
   ]
  },
  {
   "cell_type": "markdown",
   "id": "6a1444d5-841a-49ea-9312-5cb57b4b6cf3",
   "metadata": {},
   "source": [
    "### 2.8 字符串\n",
    "学习LLM，必然逃不过对字符串的处理。\n",
    "\n",
    "Python中的字符串使用`\"`或者`'`来创建,两者等价，但是`\"`会高于`'`。\n",
    "\n",
    "此外，`'''`可以用来创建包含多行的字符串。\n",
    "\n",
    "字符串本质上是一个不可变的元素可重复的有序序列，这也是为什么本教程会把字符串放在序列内容的最后一节。"
   ]
  },
  {
   "cell_type": "code",
   "execution_count": 56,
   "id": "70455fc7-cefd-443f-ab59-f39a35834380",
   "metadata": {},
   "outputs": [
    {
     "name": "stdout",
     "output_type": "stream",
     "text": [
      "['I', 'n', 't', 'e', 'r', 'L', 'M']\n"
     ]
    }
   ],
   "source": [
    "astring = 'InternLM'\n",
    "bstring = \"Intern'LM'\"#当字符串内有'时，可以使用\"\n",
    "print(list(astring))"
   ]
  },
  {
   "cell_type": "markdown",
   "id": "c7271b53-1768-46d7-9048-178ee73857da",
   "metadata": {},
   "source": [
    "字符串，本质上就是由字符组成的序列，将其转换为list就能看到他的原始数据结构，所以除了不能修改外，他的索引与切片操作跟列表一模一样。"
   ]
  },
  {
   "cell_type": "code",
   "execution_count": 61,
   "id": "b6658977-5616-4ddb-850d-e40ee3a02c0e",
   "metadata": {},
   "outputs": [
    {
     "name": "stdout",
     "output_type": "stream",
     "text": [
      "t\n",
      "L\n",
      "nte\n"
     ]
    }
   ],
   "source": [
    "#获取字符串中第3个元素\n",
    "print(astring[2])\n",
    "#获取字符串中倒数第二个元素\n",
    "print(astring[-2])\n",
    "#获取字符串中的第二个到第四个字符组成的子串\n",
    "print(astring[1:4])"
   ]
  },
  {
   "cell_type": "markdown",
   "id": "cbe2b3d2-a6bf-4bbf-b370-f0a2f6ca8fdc",
   "metadata": {},
   "source": [
    "#### 2.8.2 字符串的运算符\n",
    "| 运算符 | 描述 | 例子 |\n",
    "| --- | --- | ---|\n",
    "|`+` | 字符串连接 ||\n",
    "|`*`| 重复输出字符串 | |\n",
    "|`in` | 成员运算符  如果字符串中包含给定的字符返回 True| |\n",
    "|`not in` | 成员运算符如果字符串中不包含给定的字符返回 True|'M' not in a 输出结果 True|"
   ]
  },
  {
   "cell_type": "markdown",
   "id": "b8a16e1f-fb49-4369-b5e1-a11aa4d05cd3",
   "metadata": {
    "tags": []
   },
   "source": [
    "#### 2.8.3 字符串的方法\n",
    "\n",
    "| 方法名 | 功能描述 |\n",
    "| --- | --- |\n",
    "| capitalize() | 将字符串的第一个字符转换为大写 |\n",
    "| center(width, fillchar)|返回一个指定的宽度 width 居中的字符串，fillchar 为填充的字符，默认为空格|\n",
    "| count(str, beg= 0,end=len(string))|返回 str 在 string 里面出现的次数，如果 beg 或者 end 指定则返回指定范围内str 出现的次数 |\n",
    "| endswith(suffix, beg=0, end=len(string))|检查字符串是否以 suffix 结束，如果 beg 或者 end 指定则检查指定的范围内是否以 suffix 结束，如果是，返回 True,否则返回 False。|\n",
    "|expandtabs(tabsize=8)|把字符串 string 中的 tab 符号转为空格，tab 符号默认的空格数是 8 |\n",
    "| find(str, beg=0, end=len(string)) |检测 str 是否包含在字符串中，如果指定范围 beg 和 end ，则检查是否包含在指定范围内，如果包含返回开始的索引值，否则返回-1|\n",
    "| index(str, beg=0, end=len(string))|跟find()方法一样，只不过如果str不在字符串中会报一个异常|\n",
    "| isalnum()|如果字符串至少有一个字符并且所有字符都是字母或数字则返 回 True，否则返回 False|\n",
    "|isalpha()|如果字符串至少有一个字符并且所有字符都是字母或中文字则返回 True, 否则返回 False|\n",
    "|isdigit()|如果字符串只包含数字则返回 True 否则返回 False..|\n",
    "|islower()|如果字符串中包含至少一个区分大小写的字符，并且所有这些(区分大小写的)字符都是小写，则返回 True，否则返回 False|\n",
    "|isnumeric()|如果字符串中只包含数字字符，则返回 True，否则返回 False|\n",
    "|isspace()|如果字符串中只包含空白，则返回 True，否则返回 False.|\n",
    "|istitle()|如果字符串是标题化的(见 title())则返回 True，否则返回 False|\n",
    "|isupper()|如果字符串中包含至少一个区分大小写的字符，并且所有这些(区分大小写的)字符都是大写，则返回 True，否则返回 False|\n",
    "|join(seq)|以指定字符串作为分隔符，将 seq 中所有的元素(的字符串表示)合并为一个新的字符串|\n",
    "| ljust(width[, fillchar])|返回一个原字符串左对齐,并使用 fillchar 填充至长度 width 的新字符串，fillchar 默认为空格。|\n",
    "|lower()|转换字符串中所有大写字符为小写|\n",
    "|lstrip()|截掉字符串左边的空格或指定字符|\n",
    "|maketrans()|创建字符映射的转换表，对于接受两个参数的最简单的调用方式，第一个参数是字符串，表示需要转换的字符，第二个参数也是字符串表示转换的目标。|\n",
    "|max(str)|返回字符串 str 中最大的字母|\n",
    "|min(str)|返回字符串 str 中最小的字母|\n",
    "|replace(old, new [, max])|将字符串中的 old 替换成 new,如果 max 指定，则替换不超过 max 次|\n",
    "|rfind(str, beg=0,end=len(string))|类似于 find()函数，不过是从右边开始查找.|\n",
    "|rindex( str, beg=0, end=len(string))|类似于 index()，不过是从右边开始|\n",
    "|rjust(width,[, fillchar])|返回一个原字符串右对齐,并使用fillchar(默认空格）填充至长度 width 的新字符串|\n",
    "|rstrip()|删除字符串末尾的空格或指定字符。|\n",
    "|split(str=\"\", num=string.count(str))|以 str 为分隔符截取字符串，如果 num 有指定值，则仅截取 num+1 个子字符串|\n",
    "| splitlines([keepends])|按照行('\\r', '\\r\\n', \\n')分隔，返回一个包含各行作为元素的列表，如果参数 keepends 为 False，不包含换行符，如果为 True，则保留换行符。|\n",
    "| startswith(substr, beg=0,end=len(string)) |检查字符串是否是以指定子字符串 substr 开头，是则返回 True，否则返回 False。如果beg 和 end 指定值，则在指定范围内检查。|\n",
    "| strip([chars]) | 在字符串上执行 lstrip()和 rstrip()|\n",
    "| swapcase() |将字符串中大写转换为小写，小写转换为大写 |\n",
    "| title() | 返回\"标题化\"的字符串,就是说所有单词都是以大写开始，其余字母均为小写 |\n",
    "| translate(table, deletechars=\"\") |根据 table 给出的表(包含 256 个字符)转换 string 的字符, 要过滤掉的字符放到 deletechars 参数中|\n",
    "|zfill (width)|返回长度为 width 的字符串，原字符串右对齐，前面填充0|\n",
    "| isdecimal()| 检查字符串是否只包含十进制字符，如果是返回 true，否则返回 false|"
   ]
  },
  {
   "cell_type": "markdown",
   "id": "9b38a75b-2d09-4d8e-856c-df263e53e3c1",
   "metadata": {},
   "source": [
    "#### 2.8.4 字符串的格式化输出\n",
    "\n",
    "https://www.runoob.com/python3/python3-string.html"
   ]
  },
  {
   "cell_type": "markdown",
   "id": "dbd69f64-2fdf-4f50-a750-75834059dad0",
   "metadata": {},
   "source": [
    "### 2.9 控制结构"
   ]
  },
  {
   "cell_type": "markdown",
   "id": "bb0b208b-fffc-401e-8f79-6486652578b8",
   "metadata": {},
   "source": [
    "python中的if语句为:"
   ]
  },
  {
   "cell_type": "code",
   "execution_count": null,
   "id": "291ffb04-2f57-4706-bc9c-57a3b6e00016",
   "metadata": {},
   "outputs": [],
   "source": [
    "if condition_1:\n",
    "    statement_block_1\n",
    "elif condition_2:\n",
    "    statement_block_2\n",
    "else:\n",
    "    statement_block_3`"
   ]
  },
  {
   "cell_type": "markdown",
   "id": "9a802a35-275f-4be1-b73c-30788d47dd77",
   "metadata": {},
   "source": [
    "* 如果 \"condition_1\" 为 True 将执行 \"statement_block_1\" 块语句\n",
    "* 如果 \"condition_1\" 为False，将判断 \"condition_2\"\n",
    "* 如果\"condition_2\" 为 True 将执行 \"statement_block_2\" 块语句\n",
    "* 如果 \"condition_2\" 为False，将执行\"statement_block_3\"块语句\n",
    "\n",
    "\n",
    "接下来我们用if语句完成一个成绩等级判定的功能:\n",
    "* [90,100] A\n",
    "* [80,90) B\n",
    "* [70,80) C\n",
    "* [60,70) D\n",
    "* (0,60) F"
   ]
  },
  {
   "cell_type": "code",
   "execution_count": 63,
   "id": "4d3bb9cf-09ed-42b2-9825-6b4480ddb4a7",
   "metadata": {},
   "outputs": [
    {
     "name": "stdout",
     "output_type": "stream",
     "text": [
      "B\n"
     ]
    }
   ],
   "source": [
    "score = 80\n",
    "if score>=90:\n",
    "    print('A')\n",
    "elif score>=80:\n",
    "    print('B')\n",
    "elif score>=70:\n",
    "    print('C')\n",
    "elif score>=60:\n",
    "    print('D')\n",
    "else:\n",
    "    print('F')"
   ]
  },
  {
   "cell_type": "markdown",
   "id": "ce19dff1-4f86-46e4-a2a6-3ecb1417405a",
   "metadata": {},
   "source": [
    "### 2.10 循环"
   ]
  },
  {
   "cell_type": "markdown",
   "id": "11e4b6c1-112c-4939-8cf0-184854925504",
   "metadata": {},
   "source": [
    "#### 2.9.1 while语句"
   ]
  },
  {
   "cell_type": "code",
   "execution_count": null,
   "id": "7a2f3355-e66e-4b50-8506-b48ec9dbce77",
   "metadata": {},
   "outputs": [],
   "source": [
    "while condition:\n",
    "    statement"
   ]
  },
  {
   "cell_type": "markdown",
   "id": "b6f57376-e040-4267-9924-03beb4ec607f",
   "metadata": {},
   "source": [
    "以上是while语句的形式，当condition为True时，while会执行statement然后再判断condition，直至condition变为False才会结束循环"
   ]
  },
  {
   "cell_type": "code",
   "execution_count": null,
   "id": "c592531c-e6cd-4fc8-a72c-f311f13da806",
   "metadata": {
    "tags": []
   },
   "outputs": [],
   "source": []
  },
  {
   "cell_type": "code",
   "execution_count": 68,
   "id": "7eaafef8-68c5-4d3b-8554-11df920e7e75",
   "metadata": {},
   "outputs": [
    {
     "name": "stdout",
     "output_type": "stream",
     "text": [
      "4950\n"
     ]
    }
   ],
   "source": [
    "#用while语句求100以内数字的和\n",
    "i=0\n",
    "res = 0\n",
    "while i<100:\n",
    "    res+=i\n",
    "    i+=1\n",
    "print(res)"
   ]
  },
  {
   "cell_type": "markdown",
   "id": "26570fa7-3fa0-4dcf-bb9e-1507eb71b991",
   "metadata": {},
   "source": [
    "#### 2.9.2 for 语句"
   ]
  },
  {
   "cell_type": "code",
   "execution_count": null,
   "id": "0c83daa4-4dfd-404c-9977-b178216707e6",
   "metadata": {},
   "outputs": [],
   "source": [
    "for <variable> in <sequence>:\n",
    "    <statements>\n",
    "else:\n",
    "    <statements>"
   ]
  },
  {
   "cell_type": "markdown",
   "id": "80acb596-676a-49eb-9127-0889c9045012",
   "metadata": {},
   "source": [
    "for循环可以遍历任何可迭代的对象，比如一个列表。"
   ]
  },
  {
   "cell_type": "code",
   "execution_count": 65,
   "id": "af07045e-231d-458c-b782-3274947bf8eb",
   "metadata": {},
   "outputs": [
    {
     "name": "stdout",
     "output_type": "stream",
     "text": [
      "InternLM\n",
      "LLM\n",
      "transformer\n",
      "Shanghai\n"
     ]
    }
   ],
   "source": [
    "for st in ['InternLM','LLM','transformer','Shanghai']:\n",
    "    print(st)"
   ]
  },
  {
   "cell_type": "markdown",
   "id": "4326c689-5243-480b-bd48-eabb48d87b2f",
   "metadata": {},
   "source": [
    "提到for循环就不能不提经常与它一起出现的range(start,stop,step)函数，他会生成一个可迭代的对象，以step步长生成[start,stop)。可以只写一个stop，默认从0开始。"
   ]
  },
  {
   "cell_type": "code",
   "execution_count": 69,
   "id": "51adc278-7df0-4c72-938a-013babf7a403",
   "metadata": {},
   "outputs": [
    {
     "name": "stdout",
     "output_type": "stream",
     "text": [
      "0\n",
      "1\n",
      "2\n",
      "3\n",
      "4\n"
     ]
    }
   ],
   "source": [
    "for i in range(5):\n",
    "    print(i)"
   ]
  },
  {
   "cell_type": "markdown",
   "id": "e099a4f7-ae1c-4ddc-b390-36e614951307",
   "metadata": {},
   "source": [
    "#### 2.9.3 列表推导式"
   ]
  },
  {
   "cell_type": "code",
   "execution_count": 67,
   "id": "ae219e7e-f5a2-469b-ae0b-6fb7dfa4794d",
   "metadata": {},
   "outputs": [
    {
     "name": "stdout",
     "output_type": "stream",
     "text": [
      "[3, 6, 9, 12, 15, 18, 21, 24, 27, 30, 33, 36, 39, 42, 45, 48, 51, 54, 57, 60, 63, 66, 69, 72, 75, 78, 81, 84, 87, 90, 93, 96, 99]\n"
     ]
    }
   ],
   "source": [
    "#找出1-100内能被3整除的数\n",
    "print([i for i in range(1,101) if i%3==0])"
   ]
  },
  {
   "cell_type": "markdown",
   "id": "70cb224a-b032-4661-8aa3-23fea334077d",
   "metadata": {},
   "source": [
    "### 2.11 函数\n",
    "python定义函数的关键字为def"
   ]
  },
  {
   "cell_type": "code",
   "execution_count": null,
   "id": "d7180c54-04e3-4a9f-9da4-088c48c568b4",
   "metadata": {},
   "outputs": [],
   "source": [
    "def 函数名（参数列表）:\n",
    "    函数体"
   ]
  },
  {
   "cell_type": "code",
   "execution_count": 73,
   "id": "66406e16-c220-42b5-af62-d92ee5d52e84",
   "metadata": {},
   "outputs": [],
   "source": [
    "#定义一个打招呼的函数,别忘了冒号\n",
    "def hello(name):\n",
    "    out = 'Hello '+name\n",
    "    print(out)"
   ]
  },
  {
   "cell_type": "code",
   "execution_count": 74,
   "id": "90fe44a0-8f67-4026-bb33-36530b21e601",
   "metadata": {},
   "outputs": [
    {
     "name": "stdout",
     "output_type": "stream",
     "text": [
      "Hello InternLM2\n"
     ]
    }
   ],
   "source": [
    "hello('InternLM2')"
   ]
  },
  {
   "cell_type": "code",
   "execution_count": 75,
   "id": "b78c5b73-48d2-4e1a-a969-75f71afcc463",
   "metadata": {},
   "outputs": [
    {
     "ename": "NameError",
     "evalue": "name 'out' is not defined",
     "output_type": "error",
     "traceback": [
      "\u001b[1;31m---------------------------------------------------------------------------\u001b[0m",
      "\u001b[1;31mNameError\u001b[0m                                 Traceback (most recent call last)",
      "\u001b[1;32m~\\AppData\\Local\\Temp\\ipykernel_5948\\1840511101.py\u001b[0m in \u001b[0;36m<module>\u001b[1;34m\u001b[0m\n\u001b[0;32m      1\u001b[0m \u001b[1;31m#注意，函数中定义的变量为局部变量，只有函数内能访问到，这就是变量的作用领域\u001b[0m\u001b[1;33m\u001b[0m\u001b[1;33m\u001b[0m\u001b[1;33m\u001b[0m\u001b[0m\n\u001b[1;32m----> 2\u001b[1;33m \u001b[0mout\u001b[0m\u001b[1;33m\u001b[0m\u001b[1;33m\u001b[0m\u001b[0m\n\u001b[0m",
      "\u001b[1;31mNameError\u001b[0m: name 'out' is not defined"
     ]
    }
   ],
   "source": [
    "#注意，函数中定义的变量为局部变量，只有函数内能访问到，这就是变量的作用领域\n",
    "print(out)\n",
    "#当我们尝试使用变量out时就会报错，提示out没有被定义"
   ]
  },
  {
   "cell_type": "markdown",
   "id": "6b79667d-38c0-46f7-9a90-49a3180d5beb",
   "metadata": {},
   "source": [
    "* 参数是可变对象时，传参时传递的是索引，在函数中修改该参数会作用于原对象\n",
    "* 参数是不可变对象时，传参时会自动复制，在函数中修改该参数不会作用于原对象"
   ]
  },
  {
   "cell_type": "code",
   "execution_count": 77,
   "id": "de6c7683-e6a4-4db6-88cf-9b82f69ea599",
   "metadata": {},
   "outputs": [
    {
     "name": "stdout",
     "output_type": "stream",
     "text": [
      "140722764161472\n",
      "2619116568392\n",
      "number:  3\n",
      "alist:  [1, 3, 1]\n",
      "id(number) 140722764161504\n",
      "id(alist) 2619116568392\n"
     ]
    }
   ],
   "source": [
    "def update(number,alist):\n",
    "    number = 3\n",
    "    alist[1] = 3\n",
    "    print(\"number: \", number)\n",
    "    print(\"alist: \", alist)\n",
    "    print(\"id(number)\",id(number))\n",
    "    print(\"id(alist)\",id(alist))\n",
    "a = 2\n",
    "b = [1,1,1]\n",
    "print(id(a))\n",
    "print(id(b))\n",
    "update(a,b)"
   ]
  },
  {
   "cell_type": "markdown",
   "id": "34d0f6bd-12bd-4c03-880d-8c6b59c1e529",
   "metadata": {},
   "source": [
    "## Chapter3: Numpy基础\n",
    "https://www.runoob.com/numpy/numpy-tutorial.html"
   ]
  },
  {
   "cell_type": "markdown",
   "id": "915051d3-2338-48ca-b858-e3702451325a",
   "metadata": {},
   "source": [
    "### 3.1 numpy Ndarry"
   ]
  },
  {
   "cell_type": "markdown",
   "id": "e661cb51-490b-4e91-9f8f-6ca3ece20305",
   "metadata": {},
   "source": [
    "### 3.2 创建数组的各种方式"
   ]
  },
  {
   "cell_type": "markdown",
   "id": "e877e7cb-a4b3-40f2-9c73-3f7432be7465",
   "metadata": {},
   "source": [
    "### 3.3 广播"
   ]
  },
  {
   "cell_type": "markdown",
   "id": "96a2af53-049e-434c-8559-af78c6cb9f37",
   "metadata": {},
   "source": [
    "### 3.5 排序、条件筛选"
   ]
  },
  {
   "cell_type": "markdown",
   "id": "ad3682fe-cc78-4b52-bf18-4a744d83d059",
   "metadata": {},
   "source": [
    "### 3.6 数学函数于矩阵计算"
   ]
  },
  {
   "cell_type": "markdown",
   "id": "b60c8f8a-6a6a-47ec-b9dc-74ea784828c5",
   "metadata": {},
   "source": [
    "### 3.7 线性代数"
   ]
  }
 ],
 "metadata": {
  "kernelspec": {
   "display_name": "Python 3 (ipykernel)",
   "language": "python",
   "name": "python3"
  },
  "language_info": {
   "codemirror_mode": {
    "name": "ipython",
    "version": 3
   },
   "file_extension": ".py",
   "mimetype": "text/x-python",
   "name": "python",
   "nbconvert_exporter": "python",
   "pygments_lexer": "ipython3",
   "version": "3.7.10"
  },
  "toc-autonumbering": false,
  "toc-showmarkdowntxt": false,
  "toc-showtags": false
 },
 "nbformat": 4,
 "nbformat_minor": 5
}
