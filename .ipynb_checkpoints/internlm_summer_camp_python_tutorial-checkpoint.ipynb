{
 "cells": [
  {
   "cell_type": "markdown",
   "id": "2a9b37ad-dbbc-432b-afc0-099423fd5e71",
   "metadata": {},
   "source": [
    "# InternLM Python入门教程code\n",
    "Author：Charleson \n",
    "\n",
    "本notebook是为书生浦语大模型实战营编写的Python与Numpy入门教程的code部分。notebook可以交互式地编写和运行代码，方便运行教程中的示例与完成作业。"
   ]
  },
  {
   "cell_type": "markdown",
   "id": "3d2deec2-e070-4681-b547-2402d6258131",
   "metadata": {
    "tags": []
   },
   "source": [
    "## Chapter2: Python基础"
   ]
  },
  {
   "cell_type": "markdown",
   "id": "8afb70a8-cc2b-42c9-8a21-631a009b2bd3",
   "metadata": {},
   "source": [
    "### 2.1 Python基础语法"
   ]
  },
  {
   "cell_type": "code",
   "execution_count": 5,
   "id": "ac73e2f6-892f-41de-b2f4-a4ce50436b42",
   "metadata": {},
   "outputs": [
    {
     "name": "stdout",
     "output_type": "stream",
     "text": [
      "hello world\n",
      "2\n",
      "3\n"
     ]
    }
   ],
   "source": [
    "#这是一个单行注释\n",
    "'''\n",
    "这是一个多行注释\n",
    "这是一个多行注释\n",
    "'''\n",
    "print(\"hello world\")#从hello world开始认识Python\n",
    "print(1+1)\n",
    "print(1+2)\n",
    "#print函数是Python中用于输出信息到控制台的内置函数。"
   ]
  },
  {
   "cell_type": "markdown",
   "id": "2e04d0e4-10da-4767-b43f-bcb0ee366ea2",
   "metadata": {},
   "source": [
    "在python中，代码块不使用{}来表示，而是通过行与缩进来表示，同一个代码块有着相同的缩进。"
   ]
  },
  {
   "cell_type": "code",
   "execution_count": null,
   "id": "c76992b6-0ecd-4fa0-8bb1-07115df7be41",
   "metadata": {},
   "outputs": [],
   "source": [
    "if True:\n",
    "    print('hello world!')\n",
    "    print('hello python!')\n",
    "else:\n",
    "    print('goodbye python!')\n",
    "    print('goodbye world!')"
   ]
  },
  {
   "cell_type": "markdown",
   "id": "19b7d16b-d94c-4563-b1b1-d8304ad57903",
   "metadata": {},
   "source": [
    "python标识符(变量名，函数名)命名要求：\n",
    "* 标识符须要由字母，数字和下划线组成\n",
    "* 首字符必须是字母或者下划线_\n",
    "* 标识符对大小写敏感\n",
    "* 标识符不能与python关键字重名\n",
    "\n",
    "以下代码可以查看python的关键词（保留字符）"
   ]
  },
  {
   "cell_type": "code",
   "execution_count": 4,
   "id": "3fd9b386-2a04-4f77-8f30-bdbb28c8a084",
   "metadata": {},
   "outputs": [
    {
     "name": "stdout",
     "output_type": "stream",
     "text": [
      "['False', 'None', 'True', '__peg_parser__', 'and', 'as', 'assert', 'async', 'await', 'break', 'class', 'continue', 'def', 'del', 'elif', 'else', 'except', 'finally', 'for', 'from', 'global', 'if', 'import', 'in', 'is', 'lambda', 'nonlocal', 'not', 'or', 'pass', 'raise', 'return', 'try', 'while', 'with', 'yield']\n"
     ]
    }
   ],
   "source": [
    "import keyword\n",
    "print(keyword.kwlist)"
   ]
  },
  {
   "cell_type": "markdown",
   "id": "2123193d-a5c7-47f9-a116-69ca3510222c",
   "metadata": {},
   "source": [
    "### 2.2 基本数据类型\n",
    "\n",
    "python基本数据类型:\n",
    "* 数字Number\n",
    "    * int整数\n",
    "    * float浮点数\n",
    "    * complex复数\n",
    "* 布尔型bool\n",
    "* 列表list\n",
    "* 元组tuple\n",
    "* 集合set\n",
    "* 字典Dictionary\n",
    "\n",
    "可以修改的是：列表list，集合set，字典Dictionary\n",
    "\n",
    "不可以修改的是：数字Number，布尔型bool，元组tuple"
   ]
  },
  {
   "cell_type": "code",
   "execution_count": 1,
   "id": "c848f417-6503-483e-b474-a72745c2332e",
   "metadata": {},
   "outputs": [
    {
     "name": "stdout",
     "output_type": "stream",
     "text": [
      "3\n",
      "1 2\n",
      " t_int的类型是： <class 'int'>  t_int的值是:  1\n",
      " t_float的类型是： <class 'float'>  t_float的值是:  1.0\n",
      " t_complex的类型是： <class 'complex'>  t_complex的值是:  1.2j\n",
      " t_bool的类型是： <class 'bool'>  t_bool的值是:  True\n",
      " t_list的类型是： <class 'list'>  t_list的值是:  [1, 1, 3, 3, 5, 5]\n",
      " t_tuple的类型是： <class 'tuple'>  t_tuple的值是:  (1, 1, 3, 3, 5, 5)\n",
      " t_set的类型是： <class 'tuple'>  t_set的值是:  (1, 3, 5)\n",
      " t_dict的类型是： <class 'dict'>  t_int的值是:  {'day': 18, 'month': 6, 'year': 2024}\n"
     ]
    }
   ],
   "source": [
    "#python中变量赋值的方式\n",
    "a = 1\n",
    "b = 2\n",
    "print(a+b)\n",
    "a,b = 1,2 #另一种单行赋值的方式\n",
    "print(1,2)\n",
    "\n",
    "#下面让我们来看看各种类型的数据长什么样\n",
    "t_int = 1 #整数\n",
    "t_float = 1.0 #浮点数\n",
    "t_complex = 1.2j #复数\n",
    "t_bool = True #布尔类型\n",
    "t_list = [1,1,3,3,5,5] #列表\n",
    "t_tuple = (1,1,3,3,5,5) #元组\n",
    "t_set = (1,3,5) #集合\n",
    "t_dict = {'day':18,'month':6,'year':2024} #字典\n",
    "\n",
    "print(\" t_int的类型是：\",type(t_int),' t_int的值是: ',t_int)\n",
    "print(\" t_float的类型是：\",type(t_float),' t_float的值是: ',t_float)\n",
    "print(\" t_complex的类型是：\",type(t_complex),' t_complex的值是: ',t_complex)\n",
    "print(\" t_bool的类型是：\",type(t_bool),' t_bool的值是: ',t_bool)\n",
    "print(\" t_list的类型是：\",type(t_list),' t_list的值是: ',t_list)\n",
    "print(\" t_tuple的类型是：\",type(t_tuple),' t_tuple的值是: ',t_tuple)\n",
    "print(\" t_set的类型是：\",type(t_set),' t_set的值是: ',t_set)\n",
    "print(\" t_dict的类型是：\",type(t_dict),' t_int的值是: ',t_dict)"
   ]
  },
  {
   "cell_type": "markdown",
   "id": "702a6d6e-5575-40ed-a182-ac7298169a77",
   "metadata": {},
   "source": [
    "### 数据类型转换"
   ]
  },
  {
   "cell_type": "markdown",
   "id": "87a9b5eb-0fcc-4454-a9c9-5676434617c1",
   "metadata": {},
   "source": [
    "### 2.3 运算符\n",
    "#### 2.3.1 算数运算符\n",
    "| 运算符 | 描述 |\n",
    "| --- | --- |\n",
    "| `+` | 加 |\n",
    "| `-` | 减 |\n",
    "| `*` | 乘 |\n",
    "| `/` | 除 |\n",
    "| `//` | 整除,只保留整数 |\n",
    "| `%` | 模运算或者取余数除法,只保留余数 |\n",
    "| `**` | 幂运算 |"
   ]
  },
  {
   "cell_type": "code",
   "execution_count": 7,
   "id": "83fae77b-8ecb-4208-916b-33969392ad05",
   "metadata": {},
   "outputs": [
    {
     "name": "stdout",
     "output_type": "stream",
     "text": [
      "1+1 = 2\n",
      "2-1 = 1\n",
      "2*4 = 8\n",
      "2*4 = 8\n",
      "8//3 = 2\n",
      "8%5 = 3\n",
      "2**3 = 8\n"
     ]
    }
   ],
   "source": [
    "print(\"1+1 =\",1+1)\n",
    "print(\"2-1 =\",2-1)\n",
    "print(\"2*4 =\",2*4)\n",
    "print(\"2*4 =\",2*4)\n",
    "print(\"8//3 =\",8//3)\n",
    "print(\"8%5 =\",8%5)\n",
    "print(\"2**3 =\",2**3)"
   ]
  },
  {
   "cell_type": "markdown",
   "id": "7647a8cd-1719-4200-bf9e-c60a0561f284",
   "metadata": {},
   "source": [
    "#### 2.3.2 比较运算符\n",
    "| 运算符 | 描述 |\n",
    "| --- | --- |\n",
    "| `>` | 大于 |\n",
    "| `<` | 小于 |\n",
    "| `>=` | 大于等于 |\n",
    "| `<=` | 小于等于 |\n",
    "| `==` | 等于 |\n",
    "| `!=` | 不等于 |"
   ]
  },
  {
   "cell_type": "code",
   "execution_count": 8,
   "id": "96a38952-e4f4-43be-a9ce-bbf2751c423e",
   "metadata": {},
   "outputs": [
    {
     "name": "stdout",
     "output_type": "stream",
     "text": [
      "a>b = False\n",
      "a<b = True\n",
      "a>=b = False\n",
      "a<=b = True\n",
      "a==b = False\n",
      "a!=b = True\n"
     ]
    }
   ],
   "source": [
    "a,b = 10,20\n",
    "print(\"a>b =\",a>b)\n",
    "print(\"a<b =\",a<b)\n",
    "print(\"a>=b =\",a>=b)\n",
    "print(\"a<=b =\",a<=b)\n",
    "print(\"a==b =\",a==b)\n",
    "print(\"a!=b =\",a!=b)"
   ]
  },
  {
   "cell_type": "markdown",
   "id": "d5fae9c4-3854-4966-a58b-38239beaffb4",
   "metadata": {},
   "source": [
    "#### 2.3.3 赋值运算符\n",
    "| 运算符 | 描述 | 等价表达 |\n",
    "| --- | --- | --- |\n",
    "| `=` | 基础赋值 | |\n",
    "| `+=` | 加法赋值 | a+=b等价于 a=a+b |\n",
    "| `-=` | 减法赋值 | a-=b等价于 a=a-b |\n",
    "| `*=` | 小于等于 | a*=b等价于 a=a*b |\n",
    "| `/=` | 等于 | a/=b等价于 a=a/b |\n",
    "| `//=` | 等于 | a//=b等价于 a=a//b |\n",
    "| `%=` | 等于 | a%=b等价于 a=a%b |\n",
    "| `**=` | 等于 | a**=b等价于 a=a**b |"
   ]
  },
  {
   "cell_type": "code",
   "execution_count": 12,
   "id": "99c5f517-e20a-4f99-acfa-2764a051ae1a",
   "metadata": {},
   "outputs": [
    {
     "name": "stdout",
     "output_type": "stream",
     "text": [
      "a+=1,a= 3\n",
      "b=b+1,b= 3\n",
      "--------------------\n",
      "a-=1,a= 1\n",
      "b=b-1,b= 1\n",
      "--------------------\n",
      "a*=2,a= 4\n",
      "b=b*2,b= 4\n",
      "--------------------\n",
      "a/=2,a= 1.0\n",
      "b=b/2,b= 1.0\n",
      "--------------------\n",
      "a//=2,a= 1\n",
      "b=b//2,b= 1\n",
      "--------------------\n",
      "a%=3,a= 2\n",
      "b=b%3,b= 2\n",
      "--------------------\n",
      "a%=3,a= 2\n",
      "b=b%3,b= 2\n",
      "--------------------\n",
      "a**=3,a= 8\n",
      "b=b**3,b= 8\n"
     ]
    }
   ],
   "source": [
    "a,b = 2,2\n",
    "a += 1\n",
    "b = b+1\n",
    "print(\"a+=1,a=\",a)\n",
    "print(\"b=b+1,b=\",b)\n",
    "\n",
    "print(\"-\"*20)\n",
    "a,b = 2,2\n",
    "a -= 1\n",
    "b = b-1\n",
    "print(\"a-=1,a=\",a)\n",
    "print(\"b=b-1,b=\",b)\n",
    "\n",
    "print(\"-\"*20)\n",
    "a,b = 2,2\n",
    "a *= 2\n",
    "b = b*2\n",
    "print(\"a*=2,a=\",a)\n",
    "print(\"b=b*2,b=\",b)\n",
    "\n",
    "print(\"-\"*20)\n",
    "a,b = 2,2\n",
    "a /= 2\n",
    "b = b/2\n",
    "print(\"a/=2,a=\",a)\n",
    "print(\"b=b/2,b=\",b)\n",
    "\n",
    "print(\"-\"*20)\n",
    "a,b = 2,2\n",
    "a //= 2\n",
    "b = b//2\n",
    "print(\"a//=2,a=\",a)\n",
    "print(\"b=b//2,b=\",b)\n",
    "\n",
    "print(\"-\"*20)\n",
    "a,b = 2,2\n",
    "a %= 3\n",
    "b = b%3\n",
    "print(\"a%=3,a=\",a)\n",
    "print(\"b=b%3,b=\",b)\n",
    "\n",
    "print(\"-\"*20)\n",
    "a,b = 2,2\n",
    "a %= 3\n",
    "b = b%3\n",
    "print(\"a%=3,a=\",a)\n",
    "print(\"b=b%3,b=\",b)\n",
    "\n",
    "print(\"-\"*20)\n",
    "a,b = 2,2\n",
    "a **= 3\n",
    "b = b**3\n",
    "print(\"a**=3,a=\",a)\n",
    "print(\"b=b**3,b=\",b)"
   ]
  },
  {
   "cell_type": "markdown",
   "id": "62dd57a9-286e-417c-97c5-69af934a8ea7",
   "metadata": {},
   "source": [
    "#### 2.3.4 逻辑运算符\n",
    "| 运算符 | 描述 |\n",
    "| --- | --- |\n",
    "| `and` | 逻辑与 |\n",
    "| `or` | 逻辑或 |\n",
    "| `not` | 逻辑非 |"
   ]
  },
  {
   "cell_type": "code",
   "execution_count": 13,
   "id": "a135a654-00d1-4660-bf6c-c2e3d06f288b",
   "metadata": {},
   "outputs": [
    {
     "name": "stdout",
     "output_type": "stream",
     "text": [
      "a and b = False\n",
      "a or b = False\n",
      "not b = False\n"
     ]
    }
   ],
   "source": [
    "a,b = True,False\n",
    "print(\"a and b =\",a and b)\n",
    "print(\"a or b =\",a and b)\n",
    "print(\"not b =\",not a)"
   ]
  },
  {
   "cell_type": "markdown",
   "id": "31e779d0-7591-4a04-b419-28d7fe88b522",
   "metadata": {},
   "source": [
    "### 2.4 列表\n",
    "列表是一个有索引的序列，索引从0开始。\n",
    "\n",
    "列表是可变的，列表中的元素可以重复，可以是不同的类型。\n",
    "\n",
    "#### 2.4.1 列表的创建方法"
   ]
  },
  {
   "cell_type": "code",
   "execution_count": 35,
   "id": "f846c097-623d-42f4-806a-4c6e8e9b4c86",
   "metadata": {},
   "outputs": [
    {
     "name": "stdout",
     "output_type": "stream",
     "text": [
      "alist : [1, 2, 3, 4, 5, 6]\n",
      "blist : ['h', 'e', 'l', 'l', 'o', ' ', 'w', 'o', 'r', 'l', 'd', '!']\n"
     ]
    }
   ],
   "source": [
    "alist = [1,2,3,4,5,6] #列表使用[]表示，每个元素之间用,隔开\n",
    "print('alist :',alist)\n",
    "blist = list(\"hello world!\") #列表也可以使用list()函数将其他可迭代的对象转换为列表，比如字符串。字符串的结构我们会在字符串小节里具体介绍\n",
    "print('blist :',blist)"
   ]
  },
  {
   "cell_type": "markdown",
   "id": "2318875c-9550-4749-8b4b-b7bc116216f9",
   "metadata": {},
   "source": [
    "#### 2.4.2 访问元素的方法，索引与切片 \n",
    "\n",
    "python中的序列均有正向索引与反向索引，正向索引从0开始表示序列第一个元素，反向索引从-1开始表示\n",
    "以alist为例子，我们打印出alist中每个元素对于的正向索引与反向索引。"
   ]
  },
  {
   "cell_type": "code",
   "execution_count": 15,
   "id": "2f6a8d97-d4ce-41ab-bd66-68e12d535af7",
   "metadata": {},
   "outputs": [
    {
     "name": "stdout",
     "output_type": "stream",
     "text": [
      "elements:  1   2   3   4   5   6\n",
      "正向索引:   0   1   2   3   4   5\n",
      "反向索引:   -6  -5  -4  -3  -2  -1\n"
     ]
    }
   ],
   "source": [
    "print('elements: ','   '.join([str(i) for i in alist]))\n",
    "print('正向索引:  ','   '.join([str(i) for i in range(0,len(alist))]))\n",
    "print('反向索引:  ','  '.join([str(i) for i in range(-len(alist),0)]))#这里的len函数是用来获取列表长度的，后面会具体介绍"
   ]
  },
  {
   "cell_type": "code",
   "execution_count": 36,
   "id": "d2f4ca2c-6e0b-4c2f-92cc-ba259360a6d9",
   "metadata": {},
   "outputs": [
    {
     "name": "stdout",
     "output_type": "stream",
     "text": [
      "第一个元素:  1\n",
      "第一个元素:  1\n",
      "最后一个元素:  6\n",
      "最后一个元素:  6\n",
      "alist[1]=0\n",
      "[1, 0, 3, 4, 5, 6]\n"
     ]
    }
   ],
   "source": [
    "#取列表第一个元素的两种方式\n",
    "print('第一个元素: ',alist[0])\n",
    "print('第一个元素: ',alist[-6])\n",
    "\n",
    "#取列表最后一个元素的两种方式\n",
    "print('最后一个元素: ',alist[-1])\n",
    "print('最后一个元素: ',alist[5])\n",
    "\n",
    "#修改第二个元素\n",
    "print('alist[1]=0')\n",
    "alist[1]=0\n",
    "print(alist)\n",
    "\n",
    "#删除第二个元素\n",
    "del alist[1]\n",
    "print(alist)"
   ]
  },
  {
   "cell_type": "markdown",
   "id": "faeb6594-2be1-4937-861b-5ba3740f6542",
   "metadata": {},
   "source": [
    "列表支持切片操作，即截取列表中的一部分长度的操作。\n",
    "\n",
    "具体语法为 list_name\\[start_index:end_index:step\\]。\n",
    "\n",
    "start_index为起点索引，end_index为终点索引，step为步长。要注意截取的部分为\\[start_index,end_index\\),也就是不包括end_index。\n",
    "\n",
    "其中step缺省时默认步长为1，start_index缺省时默认为第一个元素，end_index缺省时默认为最后一个元素。"
   ]
  },
  {
   "cell_type": "code",
   "execution_count": 26,
   "id": "95974b00-2bda-4822-96bb-128fdaa4ac43",
   "metadata": {},
   "outputs": [
    {
     "name": "stdout",
     "output_type": "stream",
     "text": [
      "[1, 2, 3, 4, 5, 6]\n",
      "获取前三个元素\n",
      "alist[0:3]:  [1, 2, 3]\n",
      "alist[:3]:  [1, 2, 3]\n",
      "获取第二个到第四个元素（索引1至3）\n",
      "alist[1:4]:  [2, 3, 4]\n",
      "获取最后三个元素\n",
      "alist[-3:]:  [4, 5, 6]\n",
      "获取所有索引为奇数的元素\n",
      "alist[1::2]:  [2, 4, 6]\n",
      "获取所有索引为偶数的元素\n",
      "alist[::2]:  [1, 3, 5]\n"
     ]
    }
   ],
   "source": [
    "alist = [1,2,3,4,5,6]\n",
    "print(alist)\n",
    "\n",
    "print('获取前三个元素')\n",
    "print('alist[0:3]: ',alist[0:3])\n",
    "print('alist[:3]: ',alist[:3])\n",
    "\n",
    "print('获取第二个到第四个元素（索引1至3）')\n",
    "print('alist[1:4]: ',alist[1:4])\n",
    "\n",
    "print('获取最后三个元素')\n",
    "print('alist[-3:]: ',alist[-3:])\n",
    "\n",
    "print('获取所有索引为奇数的元素')\n",
    "print('alist[1::2]: ',alist[1::2])\n",
    "\n",
    "print('获取所有索引为偶数的元素')\n",
    "print('alist[::2]: ',alist[::2])"
   ]
  },
  {
   "cell_type": "markdown",
   "id": "540311e9-3348-44c7-b98e-3a217ae51d8c",
   "metadata": {
    "tags": []
   },
   "source": [
    "#### 2.4.3 列表运算符\n",
    "| 运算符 | 描述 |\n",
    "| --- | --- |\n",
    "| `+` | 拼接两个列表 |\n",
    "| `*` | 列表*整数，将列表重复 |\n",
    "| `in` | 元素是否在列表内|"
   ]
  },
  {
   "cell_type": "code",
   "execution_count": 31,
   "id": "cdde5829-8a91-42be-8d01-3853b888af2d",
   "metadata": {},
   "outputs": [
    {
     "name": "stdout",
     "output_type": "stream",
     "text": [
      "alist+blist:  [1, 2, 3, 4, 5, 6]\n",
      "alist*3:  [1, 2, 3, 1, 2, 3, 1, 2, 3]\n",
      "3 in alist:  True\n",
      "4 in alist:  False\n"
     ]
    }
   ],
   "source": [
    "alist = [1,2,3]\n",
    "blist = [4,5,6]\n",
    "print('alist+blist: ',alist+blist)\n",
    "print('alist*3: ',alist*3)\n",
    "print('3 in alist: ',3 in alist)\n",
    "print('4 in alist: ',4 in alist)"
   ]
  },
  {
   "cell_type": "markdown",
   "id": "42156728-d4e5-4804-9026-894a6f649d43",
   "metadata": {
    "tags": []
   },
   "source": [
    "#### 2.4.3 列表函数与方法\n",
    "| 函数名 | 描述 |\n",
    "| --- | --- |\n",
    "| `len()` | 列表长度 |\n",
    "| `max()` | 列表中的最大值|\n",
    "| `min()` | 列表中的最小值|\n",
    "\n",
    "| 方法名 | 描述 |返回值|\n",
    "| --- | --- | --- |\n",
    "| `list.append(obj)` | 在列表末尾添加新元素 | 无，原地操作 |\n",
    "| `list.count(obj)` | 统计一个元素在列表中出现的次数 | 返回该元素出现的次数 |\n",
    "| `list.extend(seq)` | 将一个序列中的所有元素添加到列表末尾 | 无，原地操作 |\n",
    "| `list.index(obj)` | 从列表中找出某个值第一个匹配项的索引位置 | 返回索引 |\n",
    "| `list.insert(index, obj)` | 将元素插入列表中的指定位置 | 无，原地操作 |\n",
    "| `list.pop([index=-1])` | 移除列表中的一个元素（默认最后一个元素），并且返回该元素的值 | 返回移除的元素值 |\n",
    "| `list.remove(obj)` | 移除列表中某个值第一个匹配项 | 无，原地操作 |\n",
    "| `list.reverse()` | 逆向排列列表中的所有元素 | 无，原地操作 |\n",
    "| `list.sort(key=None,reverse=False)` | 对列表内元素进行排序，默认为升序 | 无，原地操作 |\n",
    "| `list.clear()` | 清空列表 | 无，原地操作 |\n",
    "| `list.copy()` | 复制列表 | 复制后的列表 |"
   ]
  },
  {
   "cell_type": "code",
   "execution_count": 32,
   "id": "6148fe46-7be5-40f2-8d07-fa333573eb07",
   "metadata": {},
   "outputs": [
    {
     "name": "stdout",
     "output_type": "stream",
     "text": [
      "10\n",
      "8\n",
      "0\n",
      "None\n"
     ]
    },
    {
     "data": {
      "text/plain": [
       "[0, 1, 1, 2, 3, 4, 5, 6, 7, 8, 10, 11]"
      ]
     },
     "execution_count": 32,
     "metadata": {},
     "output_type": "execute_result"
    }
   ],
   "source": [
    "alist = [0,1,1,2,3,4,5,6,7,8]\n",
    "print(len(alist))\n",
    "print(max(alist))\n",
    "print(min(alist))\n",
    "alist.append(10)\n",
    "alist.count(1)#return 次数\n",
    "alist.extend([11,12])\n",
    "alist.index(1) #有两个1，但只会返回第第一个的索引\n",
    "alist.insert(1,0)\n",
    "alist.pop()\n",
    "print(alist.remove(0))\n",
    "alist.reverse()\n",
    "#alist.clear()\n",
    "alist.sort(key=None,reverse=False)\n",
    "alist"
   ]
  },
  {
   "cell_type": "code",
   "execution_count": 22,
   "id": "d7c4b970-c017-4444-9113-e64fb8c7984b",
   "metadata": {},
   "outputs": [
    {
     "name": "stdout",
     "output_type": "stream",
     "text": [
      "[11, 10, 8, 7, 6, 5, 4, 3, 2, 1, 1, 0, 10]\n"
     ]
    }
   ],
   "source": [
    "alist.append(10)#.append不会返回任何内容，直接在原列表上操作\n",
    "print(alist)"
   ]
  },
  {
   "cell_type": "code",
   "execution_count": 30,
   "id": "d1532b8c-6269-4753-a040-94d5b9d2775b",
   "metadata": {},
   "outputs": [
    {
     "name": "stdout",
     "output_type": "stream",
     "text": [
      "10出现的次数: 1\n",
      "1出现的次数: 2\n"
     ]
    }
   ],
   "source": [
    "print('10出现的次数:',alist.count(10))#.count会返回该元素出现的次数平\n",
    "print('1出现的次数:',alist.count(1))"
   ]
  },
  {
   "cell_type": "code",
   "execution_count": 33,
   "id": "1d945383-3f97-43b4-981c-025361efcdb9",
   "metadata": {},
   "outputs": [
    {
     "name": "stdout",
     "output_type": "stream",
     "text": [
      "[0, 1, 1, 2, 3, 4, 5, 6, 7, 8, 10, 11, 11, 12]\n"
     ]
    }
   ],
   "source": [
    "alist.extend([11,12])#.extend不会返回任何内容，直接在原列表上操作\n",
    "print(alist)"
   ]
  },
  {
   "cell_type": "code",
   "execution_count": 35,
   "id": "7033451e-3a76-4180-83b1-d18335ff2ccc",
   "metadata": {},
   "outputs": [
    {
     "name": "stdout",
     "output_type": "stream",
     "text": [
      "1出现的首个索引为 1\n",
      "2出现的首个索引为 3\n"
     ]
    }
   ],
   "source": [
    "print('1出现的首个索引为',alist.index(1))#.index会返回匹配到的首个元素的索引,即1，而非2\n",
    "print('2出现的首个索引为',alist.index(2))"
   ]
  },
  {
   "cell_type": "code",
   "execution_count": 36,
   "id": "fe165596-1c42-4b63-bdf5-653b05501ce1",
   "metadata": {},
   "outputs": [
    {
     "name": "stdout",
     "output_type": "stream",
     "text": [
      "[0, 0, 1, 1, 2, 3, 4, 5, 6, 7, 8, 10, 11, 11, 12]\n"
     ]
    }
   ],
   "source": [
    "alist.insert(1,0)#在索引为1的位置插入一个0，没有返回值\n",
    "print(alist)"
   ]
  },
  {
   "cell_type": "code",
   "execution_count": 37,
   "id": "85378b21-cd1f-4ab3-8bdf-2b4b0150636c",
   "metadata": {},
   "outputs": [
    {
     "name": "stdout",
     "output_type": "stream",
     "text": [
      "移除最后一个元素:  12\n",
      "[0, 0, 1, 1, 2, 3, 4, 5, 6, 7, 8, 10, 11, 11]\n",
      "移除索引为6的元素:  4\n",
      "[0, 0, 1, 1, 2, 3, 5, 6, 7, 8, 10, 11, 11]\n"
     ]
    }
   ],
   "source": [
    "print(\"移除最后一个元素: \",alist.pop())#移除最后元素，没有返回值\n",
    "print(alist)\n",
    "print(\"移除索引为6的元素: \",alist.pop(6))#移除索引为6的元素，没有返回值\n",
    "print(alist)"
   ]
  },
  {
   "cell_type": "code",
   "execution_count": 38,
   "id": "e9447fbc-a7f0-4ac9-abc8-ad2ba392568c",
   "metadata": {},
   "outputs": [
    {
     "name": "stdout",
     "output_type": "stream",
     "text": [
      "[0, 0, 1, 1, 2, 3, 5, 6, 7, 8, 10, 11]\n"
     ]
    }
   ],
   "source": [
    "alist.remove(11)#删除第一个等于11的元素，但没有返回值\n",
    "print(alist)"
   ]
  },
  {
   "cell_type": "code",
   "execution_count": 40,
   "id": "c40a49bd-e43d-41e2-8ef2-2145b10706ab",
   "metadata": {},
   "outputs": [
    {
     "name": "stdout",
     "output_type": "stream",
     "text": [
      "[10, 8, 7, 6, 5, 3, 2, 1, 1, 0, 0]\n"
     ]
    }
   ],
   "source": [
    "alist.reverse()#逆向排列列表中的所有元素\n",
    "print(alist)"
   ]
  },
  {
   "cell_type": "code",
   "execution_count": 42,
   "id": "644762dd-114e-447b-8be3-96960a9e0b72",
   "metadata": {},
   "outputs": [
    {
     "name": "stdout",
     "output_type": "stream",
     "text": [
      "[0, 0, 1, 1, 2, 3, 5, 6, 7, 8, 10]\n",
      "[10, 8, 7, 6, 5, 3, 2, 1, 1, 0, 0]\n"
     ]
    }
   ],
   "source": [
    "alist.sort()#将列表中的所有元素按升序排列，没有返回值\n",
    "print(alist)\n",
    "alist.sort(reverse=True)#将列表中的所有元素按降序排列，没有返回值\n",
    "print(alist)"
   ]
  },
  {
   "cell_type": "code",
   "execution_count": 44,
   "id": "768c1835-b28e-4dee-8a98-4beb9d830d19",
   "metadata": {},
   "outputs": [
    {
     "name": "stdout",
     "output_type": "stream",
     "text": [
      "alist_copy:  [10, 8, 7, 6, 5, 3, 2, 1, 1, 0, 0]\n",
      "alist_copy:  []\n",
      "alist:  []\n"
     ]
    }
   ],
   "source": [
    "#copy和clear我们放到一起讲\n",
    "#如何备份一个alist?直接=和使用copy的区别？\n",
    "alist_copy = alist#\n",
    "print('alist_copy: ',alist_copy)\n",
    "alist_copy.clear()#清空alist_copy\n",
    "print('alist_copy: ',alist_copy)\n",
    "print('alist: ',alist)"
   ]
  },
  {
   "cell_type": "markdown",
   "id": "e6563be6-8223-45c7-9754-1f98e12bb1c8",
   "metadata": {},
   "source": [
    "alist_copy = alist时并没有新建一个对象，而只是单纯赋值了alist的地址给alist_copy。这会导致我们对变量alist_copy的所有操作本质上都是在操作alist。而当我们使用.copy()方法进行赋值时，会复制alist为一个新的对象，此时对新对象的修改不会影响到alist。"
   ]
  },
  {
   "cell_type": "code",
   "execution_count": 46,
   "id": "3ea1de64-f9a9-4860-8404-355f812319f1",
   "metadata": {},
   "outputs": [
    {
     "name": "stdout",
     "output_type": "stream",
     "text": [
      "alist_copy:  [10, 8, 7, 6, 5, 3, 2, 1, 1, 0, 0]\n",
      "alist_copy:  []\n",
      "alist:  [10, 8, 7, 6, 5, 3, 2, 1, 1, 0, 0]\n"
     ]
    }
   ],
   "source": [
    "alist = [10, 8, 7, 6, 5, 3, 2, 1, 1, 0, 0]\n",
    "alist_copy = alist.copy()\n",
    "print('alist_copy: ',alist_copy)\n",
    "alist_copy.clear()#清空alist_copy\n",
    "print('alist_copy: ',alist_copy)\n",
    "print('alist: ',alist)"
   ]
  },
  {
   "cell_type": "code",
   "execution_count": 26,
   "id": "4e2b12d8-bdf9-4dd5-bb95-68594ea6291c",
   "metadata": {},
   "outputs": [
    {
     "data": {
      "text/plain": [
       "0.336"
      ]
     },
     "execution_count": 26,
     "metadata": {},
     "output_type": "execute_result"
    }
   ],
   "source": [
    "33.6/100"
   ]
  },
  {
   "cell_type": "code",
   "execution_count": 25,
   "id": "cccb3a6b-0c34-4804-85a3-02c7b1119a9e",
   "metadata": {},
   "outputs": [
    {
     "data": {
      "text/plain": [
       "0.33199999999999996"
      ]
     },
     "execution_count": 25,
     "metadata": {},
     "output_type": "execute_result"
    }
   ],
   "source": [
    "49.8/150"
   ]
  },
  {
   "cell_type": "markdown",
   "id": "c6690720-e26d-48d8-b3c3-2244ef0d564b",
   "metadata": {},
   "source": [
    "### 2.6 元组\n",
    "\n",
    "元组和列表很相似，但是元组创建后不可修改。\n",
    "\n",
    "元组使用()来表示，创建元组和列表一样，只要在()内添加元素并用逗号隔开就行。"
   ]
  },
  {
   "cell_type": "code",
   "execution_count": 51,
   "id": "29e44542-c027-4789-8239-61a8ce4235d0",
   "metadata": {},
   "outputs": [
    {
     "name": "stdout",
     "output_type": "stream",
     "text": [
      "1\n",
      "(2, 3)\n"
     ]
    }
   ],
   "source": [
    "atuple = (1,2,3)\n",
    "print(atuple[0])\n",
    "print(atuple[1:3])#元组的索引与切片与列表一致"
   ]
  },
  {
   "cell_type": "code",
   "execution_count": 52,
   "id": "a4db2496-d2c8-4d58-a32b-601ebcb6e038",
   "metadata": {},
   "outputs": [
    {
     "ename": "TypeError",
     "evalue": "'tuple' object does not support item assignment",
     "output_type": "error",
     "traceback": [
      "\u001b[1;31m---------------------------------------------------------------------------\u001b[0m",
      "\u001b[1;31mTypeError\u001b[0m                                 Traceback (most recent call last)",
      "\u001b[1;32m~\\AppData\\Local\\Temp\\ipykernel_23808\\2873906481.py\u001b[0m in \u001b[0;36m<module>\u001b[1;34m\u001b[0m\n\u001b[0;32m      1\u001b[0m \u001b[1;31m#当尝试修改元组内部的元素时，会报错\u001b[0m\u001b[1;33m\u001b[0m\u001b[1;33m\u001b[0m\u001b[1;33m\u001b[0m\u001b[0m\n\u001b[1;32m----> 2\u001b[1;33m \u001b[0matuple\u001b[0m\u001b[1;33m[\u001b[0m\u001b[1;36m1\u001b[0m\u001b[1;33m]\u001b[0m\u001b[1;33m=\u001b[0m\u001b[1;36m2\u001b[0m\u001b[1;33m\u001b[0m\u001b[1;33m\u001b[0m\u001b[0m\n\u001b[0m",
      "\u001b[1;31mTypeError\u001b[0m: 'tuple' object does not support item assignment"
     ]
    }
   ],
   "source": [
    "#当尝试修改元组内部的元素时，会报错\n",
    "atuple[1]=2"
   ]
  },
  {
   "cell_type": "markdown",
   "id": "6f2c573b-e180-447b-bc3a-ac5a2177d868",
   "metadata": {},
   "source": [
    "### 2.6.1 元组的运算符\n",
    "元组的运算符与列表一模一样\n",
    "| 运算符 | 描述 |\n",
    "| --- | --- |\n",
    "| `+` | 拼接两个元组 |\n",
    "| `*` | 列表*整数，将元组重复 |\n",
    "| `in` | 元素是否在元组内|"
   ]
  },
  {
   "cell_type": "code",
   "execution_count": 48,
   "id": "00106b20-8d12-4ccf-be0c-13b9a8ae3146",
   "metadata": {},
   "outputs": [
    {
     "name": "stdout",
     "output_type": "stream",
     "text": [
      "alist+blist:  (1, 2, 3, 4, 5, 6)\n",
      "alist*3:  (1, 2, 3, 1, 2, 3, 1, 2, 3)\n",
      "3 in alist:  True\n",
      "4 in alist:  False\n"
     ]
    }
   ],
   "source": [
    "atuple = (1,2,3)\n",
    "btuple = (4,5,6)\n",
    "print('alist+blist: ',atuple+btuple)\n",
    "print('alist*3: ',atuple*3)\n",
    "print('3 in alist: ',3 in atuple)\n",
    "print('4 in alist: ',4 in atuple)"
   ]
  },
  {
   "cell_type": "markdown",
   "id": "a8f5c96b-358f-48fd-b94a-84cf2899dbd8",
   "metadata": {},
   "source": [
    "### 2.6.2 元组的函数\n",
    "元组支持的函数也与列表一模一样\n",
    "| 函数名 | 描述 |\n",
    "| --- | --- |\n",
    "| `len()` | 列表长度 |\n",
    "| `max()` | 列表中的最大值|\n",
    "| `min()` | 列表中的最小值|"
   ]
  },
  {
   "cell_type": "code",
   "execution_count": 53,
   "id": "dd7abb3e-0e88-45ad-8541-fe628a7a0eb2",
   "metadata": {},
   "outputs": [
    {
     "name": "stdout",
     "output_type": "stream",
     "text": [
      "4\n",
      "4\n",
      "1\n"
     ]
    }
   ],
   "source": [
    "atuple = (1,2,3,4)\n",
    "print(len(atuple))\n",
    "print(max(atuple))\n",
    "print(min(atuple))"
   ]
  },
  {
   "cell_type": "markdown",
   "id": "cecc00df-0441-49a0-a7a5-c5ddf4f7bf24",
   "metadata": {},
   "source": [
    "### 2.7 集合"
   ]
  },
  {
   "cell_type": "code",
   "execution_count": null,
   "id": "c5813788-8998-4ec4-8917-2f95b9ce0f45",
   "metadata": {},
   "outputs": [],
   "source": []
  },
  {
   "cell_type": "markdown",
   "id": "2fc25493-0fdc-4fae-91d4-f510874495ab",
   "metadata": {},
   "source": [
    "### 2.8 字典"
   ]
  },
  {
   "cell_type": "code",
   "execution_count": null,
   "id": "6f115302-14f2-4787-ad1d-8cab4379bbfb",
   "metadata": {},
   "outputs": [],
   "source": []
  },
  {
   "cell_type": "markdown",
   "id": "6a1444d5-841a-49ea-9312-5cb57b4b6cf3",
   "metadata": {},
   "source": [
    "### 2.5 字符串"
   ]
  },
  {
   "cell_type": "markdown",
   "id": "dbd69f64-2fdf-4f50-a750-75834059dad0",
   "metadata": {},
   "source": [
    "### 2.9 控制结构"
   ]
  },
  {
   "cell_type": "code",
   "execution_count": null,
   "id": "67ec9a63-6eae-4c37-94dc-2ef077b364ee",
   "metadata": {},
   "outputs": [],
   "source": []
  },
  {
   "cell_type": "markdown",
   "id": "ce19dff1-4f86-46e4-a2a6-3ecb1417405a",
   "metadata": {},
   "source": [
    "### 2.10 循环"
   ]
  },
  {
   "cell_type": "code",
   "execution_count": null,
   "id": "65371617-1a66-45e8-9f6a-bf7299b92b60",
   "metadata": {},
   "outputs": [],
   "source": []
  },
  {
   "cell_type": "markdown",
   "id": "70cb224a-b032-4661-8aa3-23fea334077d",
   "metadata": {},
   "source": [
    "### 2.11 函数"
   ]
  },
  {
   "cell_type": "code",
   "execution_count": null,
   "id": "d7180c54-04e3-4a9f-9da4-088c48c568b4",
   "metadata": {},
   "outputs": [],
   "source": []
  },
  {
   "cell_type": "markdown",
   "id": "34d0f6bd-12bd-4c03-880d-8c6b59c1e529",
   "metadata": {},
   "source": [
    "## Chapter3: Numpy基础"
   ]
  }
 ],
 "metadata": {
  "kernelspec": {
   "display_name": "Python 3 (ipykernel)",
   "language": "python",
   "name": "python3"
  },
  "language_info": {
   "codemirror_mode": {
    "name": "ipython",
    "version": 3
   },
   "file_extension": ".py",
   "mimetype": "text/x-python",
   "name": "python",
   "nbconvert_exporter": "python",
   "pygments_lexer": "ipython3",
   "version": "3.7.10"
  },
  "toc-autonumbering": false,
  "toc-showmarkdowntxt": false,
  "toc-showtags": false
 },
 "nbformat": 4,
 "nbformat_minor": 5
}
